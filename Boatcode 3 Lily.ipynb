{
 "cells": [
  {
   "cell_type": "code",
<<<<<<< HEAD
   "execution_count": 82,
=======
   "execution_count": 1,
>>>>>>> a552951fbc0730a3e0b6e1f1fa1bab815d87478c
   "id": "bd80a1a3",
   "metadata": {},
   "outputs": [
    {
     "data": {
      "text/plain": [
       "'\\n@author: Jackson Wilt, Nico Schramma & Vera Horjus\\n'"
      ]
     },
<<<<<<< HEAD
     "execution_count": 82,
=======
     "execution_count": 1,
>>>>>>> a552951fbc0730a3e0b6e1f1fa1bab815d87478c
     "metadata": {},
     "output_type": "execute_result"
    }
   ],
   "source": [
    "\"\"\"\n",
    "@author: Jackson Wilt, Nico Schramma & Vera Horjus\n",
    "\"\"\""
   ]
  },
  {
   "cell_type": "markdown",
   "id": "92badf9a",
   "metadata": {},
   "source": [
    "# Marangoni boat project code\n",
    "\n",
    "Welcome to this notebook with code to be used for the data analysis of the boats :) This notebook contains pieces of code from the following github page: https://github.com/FluidLab/ActiveCheerios , and was compiled to be used for Project natuurkunde/sterrenkunde 1 2023.\n",
    "<br />\n",
    "This notebook contains all data you can use for analysis of the boats, with some comments on how it works. Feel free to copy the notebook and make changes or adaptations however you see fit."
   ]
  },
  {
   "cell_type": "code",
<<<<<<< HEAD
   "execution_count": 83,
=======
   "execution_count": 2,
>>>>>>> a552951fbc0730a3e0b6e1f1fa1bab815d87478c
   "id": "f76a09e5",
   "metadata": {},
   "outputs": [],
   "source": [
    "# Importing relevant packages\n",
    "import cv2\n",
    "import numpy as np\n",
    "import math\n",
    "import pims\n",
    "import trackpy as tp\n",
    "import pandas as pd\n",
    "from pathlib import Path\n",
    "import matplotlib.pyplot as plt\n",
    "import skimage\n",
    "from skimage import filters, morphology, color, transform, restoration, feature,measure\n",
    "from skimage.feature import peak_local_max\n",
    "from scipy import ndimage as ndi\n",
    "from skimage.segmentation import watershed"
   ]
  },
  {
   "cell_type": "markdown",
   "id": "f7b8866f",
   "metadata": {},
   "source": [
    "## Loading in video\n",
    "In the cell below you can put the name of the video you want to be analysed. Make sure you put the video in the same folder as where the file with this code is put."
   ]
  },
  {
   "cell_type": "code",
<<<<<<< HEAD
   "execution_count": 84,
=======
   "execution_count": 3,
>>>>>>> a552951fbc0730a3e0b6e1f1fa1bab815d87478c
   "id": "315efe8c",
   "metadata": {},
   "outputs": [],
   "source": [
    "fileName = '07-06 100%conc.mp4'"
   ]
  },
  {
   "cell_type": "code",
<<<<<<< HEAD
   "execution_count": 85,
=======
   "execution_count": 4,
>>>>>>> a552951fbc0730a3e0b6e1f1fa1bab815d87478c
   "id": "a8ce4d58",
   "metadata": {},
   "outputs": [],
   "source": [
    "frames = pims.Video(fileName) # Loading in video and converting them to individual frames\n",
    "duration = frames.duration # Duration of video in seconds\n",
    "frameRate = frames.frame_rate # Framerate of video"
   ]
  },
  {
   "cell_type": "markdown",
   "id": "998944ff",
   "metadata": {},
   "source": [
    "Use the snippet of code underneath if you want to only analyse a selection of frames. When working with large videos it is advisable to first test your code on a small selection of frames. This way you can quickly see if everything works as expected!"
   ]
  },
  {
   "cell_type": "code",
<<<<<<< HEAD
   "execution_count": 86,
=======
   "execution_count": 5,
>>>>>>> a552951fbc0730a3e0b6e1f1fa1bab815d87478c
   "id": "9d3b0430",
   "metadata": {},
   "outputs": [],
   "source": [
    "startframe = 300\n",
    "endframe = 1500\n",
    "frames = frames[startframe:endframe]"
   ]
  },
  {
   "cell_type": "code",
<<<<<<< HEAD
   "execution_count": 87,
=======
   "execution_count": 6,
>>>>>>> a552951fbc0730a3e0b6e1f1fa1bab815d87478c
   "id": "12039f77",
   "metadata": {},
   "outputs": [
    {
     "name": "stdout",
     "output_type": "stream",
     "text": [
      "1200\n"
     ]
    }
   ],
   "source": [
    "print(len(frames))"
   ]
  },
  {
   "cell_type": "markdown",
   "id": "36fb8d5e",
   "metadata": {},
   "source": [
    "## Scale calibration"
   ]
  },
  {
   "cell_type": "code",
<<<<<<< HEAD
   "execution_count": 88,
=======
   "execution_count": 7,
>>>>>>> a552951fbc0730a3e0b6e1f1fa1bab815d87478c
   "id": "2e2acae8",
   "metadata": {},
   "outputs": [],
   "source": [
    "x1 = 300\n",
    "y1 = 610\n",
    "x2 = 425\n",
    "y2 =  680"
   ]
  },
  {
   "cell_type": "code",
<<<<<<< HEAD
   "execution_count": 89,
=======
   "execution_count": 8,
>>>>>>> a552951fbc0730a3e0b6e1f1fa1bab815d87478c
   "id": "a61d84b8",
   "metadata": {},
   "outputs": [
    {
     "data": {
      "image/png": "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",
      "text/plain": [
       "<Figure size 432x288 with 1 Axes>"
      ]
     },
     "metadata": {
      "needs_background": "light"
     },
     "output_type": "display_data"
    }
   ],
   "source": [
    "calibrationFrame = frames[0]\n",
    "fig,ax = plt.subplots(1)\n",
    "ax.plot([x1,x2],[y1,y2], color = 'yellow')\n",
    "ax.imshow(calibrationFrame, cmap = 'gray')\n",
    "plt.xlim(200,500)\n",
    "plt.ylim(500,800)\n",
    "plt.show()\n",
    "sizePIX =  np.sqrt(  (x2 - x1 )**2 + (y2 - y1)**2 )"
   ]
  },
  {
   "cell_type": "markdown",
   "id": "bf08e12d",
   "metadata": {},
   "source": [
    "Fill in the underneath variable the size of the linepiece in meters."
   ]
  },
  {
   "cell_type": "code",
<<<<<<< HEAD
   "execution_count": 90,
=======
   "execution_count": 9,
>>>>>>> a552951fbc0730a3e0b6e1f1fa1bab815d87478c
   "id": "6eb2d338",
   "metadata": {},
   "outputs": [],
   "source": [
    "sizeIRL = 0.03 # meters"
   ]
  },
  {
   "cell_type": "code",
<<<<<<< HEAD
   "execution_count": 91,
=======
   "execution_count": 10,
>>>>>>> a552951fbc0730a3e0b6e1f1fa1bab815d87478c
   "id": "5ed52397",
   "metadata": {},
   "outputs": [
    {
     "name": "stdout",
     "output_type": "stream",
     "text": [
      "Scale is 0.0002094014438279328 meters/pixels\n"
     ]
    }
   ],
   "source": [
    "scale = sizeIRL / sizePIX\n",
    "print(\"Scale is \" + str(scale) + \" meters/pixels\")"
   ]
  },
  {
   "cell_type": "code",
<<<<<<< HEAD
   "execution_count": 92,
=======
   "execution_count": 11,
>>>>>>> a552951fbc0730a3e0b6e1f1fa1bab815d87478c
   "id": "807a7a27",
   "metadata": {},
   "outputs": [],
   "source": [
    "def spot_detection_3points(frames,scale,frameRate,reducefps=10,radius=[40],thresh=None,particle_num=1):\n",
    "    \"\"\"This script reads frames from a .mp4 file, transforms channels, \n",
    "    such that blue and red are mapped to dark, black is mapped to white. \n",
    "    Filtering, thresholding, Hough Circle transform\n",
    "    Final positions are centres of the Hough Circles\n",
    "\n",
    "    Args:\n",
    "        file_name (Path) : Path to raw data (.mp4 file)\n",
    "        shorten   (int, default: 1)  : quotient by which time series is shortened\n",
    "        reducefps (int, default: 12)  : every Nth step only used, \n",
    "        radius (list of int, default: [30,32]) : Radii to test for Hough transform\n",
    "\n",
    "    Returns:\n",
    "        pandas Dataframe: with positions 'x','y' and time 'frame','t'\n",
    "    \"\"\"\n",
    "    x=[]\n",
    "    y=[]\n",
    "    xg=[]\n",
    "    xb=[]\n",
    "    yg=[]\n",
    "    yb=[]\n",
    "    radii=[]\n",
    "    a=[]\n",
    "    t=[]\n",
    "    iL = []\n",
    "    \n",
    "    timePerFrame = (1/frameRate)*reducefps\n",
    "    for i in range(0,int(len(frames)),reducefps):\n",
    "        iL.append(i)\n",
    "        r,gr,b = frames[i][:,:,0],frames[i][:,:,1],frames[i][:,:,2]\n",
    "        red=(abs((r/np.max(r))-(gr/np.max(gr)))+abs((gr/np.max(gr))-(b/np.max(b)))+abs((r/np.max(r))-(b/np.max(b)))) #map colors to red -> white, else->black\n",
    "        gre=(abs((gr/np.max(gr))-(r/np.max(r)))-abs((r/np.max(r))-(b/np.max(b)))+abs((gr/np.max(gr))-(b/np.max(b)))) #map colors to set green -> white\n",
    "        blu=-abs((gr/np.max(gr))-(r/np.max(r)))+abs((r/np.max(r))-(b/np.max(b)))+abs((gr/np.max(gr))-(b/np.max(b))) #map colors to set blue -> white\n",
    "        red = filters.gaussian(red,sigma=2)\n",
    "        \n",
    "        if thresh is None:\n",
    "            thresh = skimage.filters.threshold_otsu(red)\n",
    "        binary_red = np.zeros(np.shape(red))\n",
    "        binary_red[red>thresh]=1   \n",
    "        \n",
    "        \n",
    "        area = np.sum(binary_red)/particle_num\n",
    "        \n",
    "        if radius is None:\n",
    "            radius = [np.sqrt(area/np.pi)] #create radius by the pixle size of the masked object\n",
    "\n",
    "        circles = transform.hough_circle(binary_red,radius=radius)\n",
    "        accums, cx, cy, rad = transform.hough_circle_peaks(circles, radius, total_num_peaks=particle_num)\n",
    "\n",
    "        #check blue and green channels\n",
    "        for j,im in enumerate([gre,blu]):\n",
    "            im = filters.gaussian(im,sigma=3)\n",
    "            im_mask = np.zeros(np.shape(im))\n",
    "            for cxi,cyi in zip(cx,cy):\n",
    "                im_mask[np.max([0,int(cyi-radius)]):np.min([int(cyi+radius),np.shape(im)[0]]),np.max([0,int(cxi-radius)]):np.min([int(cxi+radius),np.shape(im)[0]])]=1 #look only around partice positions\n",
    "            im*=im_mask\n",
    "            thresh_peak = filters.threshold_otsu(im)\n",
    "            \n",
    "            \n",
    "#             plt.figure()\n",
    "#             plt.imshow(im)\n",
    "#             plt.show()\n",
    "            \n",
    "            \n",
    "            coord = peak_local_max(im, min_distance=int(radius[0]),threshold_abs=thresh_peak,num_peaks=particle_num)\n",
    "            \n",
    "            \n",
    "#             print(coord)\n",
    "#             plt.figure()\n",
    "#             plt.imshow(im[:200,800:1000])\n",
    "#             plt.plot(coord[0,1]-800,coord[0,0],marker='*',color='r')\n",
    "#             plt.show()\n",
    "            \n",
    "            \n",
    "            if j==0:\n",
    "                xg.extend(coord[:,1])\n",
    "                yg.extend(coord[:,0])\n",
    "            else:\n",
    "                xb.extend(coord[:,1])\n",
    "                yb.extend(coord[:,0])\n",
    "            \n",
    "        x.extend(cx)\n",
    "        y.extend(cy)\n",
    "        radii.extend(rad)\n",
    "        a.extend(accums)\n",
    "        t.extend([i/reducefps]*particle_num)\n",
    "    \n",
    "#     print(t)\n",
    "\n",
    "#     print(len(y))\n",
    "    p = pd.DataFrame({'y': [*y],\n",
    "                      'x': [*x],\n",
    "                      'xb': [*xb],\n",
    "                      'xg': [*xg],\n",
    "                      'yb': [*yb],\n",
    "                      'yg': [*yg],\n",
    "                      'frame': iL ,\n",
    "                      't': [*t]})\n",
    "    p['t'] = p['t']*timePerFrame\n",
    "    p['y'] = p['y']*scale\n",
    "    p['x'] = p['x']*scale\n",
    "    p['yg'] = p['yg']*scale\n",
    "    p['yb'] = p['yb']*scale\n",
    "    p['xg'] = p['xg']*scale\n",
    "    p['xb'] = p['xb']*scale\n",
    "    \n",
    "    return p"
   ]
  },
  {
   "cell_type": "code",
<<<<<<< HEAD
   "execution_count": 93,
=======
   "execution_count": 12,
>>>>>>> a552951fbc0730a3e0b6e1f1fa1bab815d87478c
   "id": "caeb69d9",
   "metadata": {},
   "outputs": [],
   "source": [
    "data = spot_detection_3points(frames,scale, frameRate,  thresh = 0.9,radius = None, reducefps=5)"
   ]
  },
  {
   "cell_type": "code",
<<<<<<< HEAD
   "execution_count": 94,
=======
   "execution_count": 13,
>>>>>>> a552951fbc0730a3e0b6e1f1fa1bab815d87478c
   "id": "65619424",
   "metadata": {},
   "outputs": [
    {
     "data": {
      "text/html": [
       "<div>\n",
       "<style scoped>\n",
       "    .dataframe tbody tr th:only-of-type {\n",
       "        vertical-align: middle;\n",
       "    }\n",
       "\n",
       "    .dataframe tbody tr th {\n",
       "        vertical-align: top;\n",
       "    }\n",
       "\n",
       "    .dataframe thead th {\n",
       "        text-align: right;\n",
       "    }\n",
       "</style>\n",
       "<table border=\"1\" class=\"dataframe\">\n",
       "  <thead>\n",
       "    <tr style=\"text-align: right;\">\n",
       "      <th></th>\n",
       "      <th>y</th>\n",
       "      <th>x</th>\n",
       "      <th>xb</th>\n",
       "      <th>xg</th>\n",
       "      <th>yb</th>\n",
       "      <th>yg</th>\n",
       "      <th>frame</th>\n",
       "      <th>t</th>\n",
       "    </tr>\n",
       "  </thead>\n",
       "  <tbody>\n",
       "    <tr>\n",
       "      <th>0</th>\n",
       "      <td>0.137158</td>\n",
       "      <td>0.075385</td>\n",
       "      <td>0.068893</td>\n",
       "      <td>0.078735</td>\n",
       "      <td>0.138414</td>\n",
       "      <td>0.139671</td>\n",
       "      <td>0</td>\n",
       "      <td>0.000000</td>\n",
       "    </tr>\n",
       "    <tr>\n",
       "      <th>1</th>\n",
       "      <td>0.137367</td>\n",
       "      <td>0.073919</td>\n",
       "      <td>0.069102</td>\n",
       "      <td>0.078316</td>\n",
       "      <td>0.140299</td>\n",
       "      <td>0.137996</td>\n",
       "      <td>5</td>\n",
       "      <td>0.083333</td>\n",
       "    </tr>\n",
       "    <tr>\n",
       "      <th>2</th>\n",
       "      <td>0.137367</td>\n",
       "      <td>0.074338</td>\n",
       "      <td>0.070778</td>\n",
       "      <td>0.077269</td>\n",
       "      <td>0.142184</td>\n",
       "      <td>0.136320</td>\n",
       "      <td>10</td>\n",
       "      <td>0.166667</td>\n",
       "    </tr>\n",
       "    <tr>\n",
       "      <th>3</th>\n",
       "      <td>0.137996</td>\n",
       "      <td>0.074756</td>\n",
       "      <td>0.072872</td>\n",
       "      <td>0.075594</td>\n",
       "      <td>0.143440</td>\n",
       "      <td>0.135064</td>\n",
       "      <td>15</td>\n",
       "      <td>0.250000</td>\n",
       "    </tr>\n",
       "    <tr>\n",
       "      <th>4</th>\n",
       "      <td>0.137996</td>\n",
       "      <td>0.075594</td>\n",
       "      <td>0.076013</td>\n",
       "      <td>0.072453</td>\n",
       "      <td>0.143440</td>\n",
       "      <td>0.135064</td>\n",
       "      <td>20</td>\n",
       "      <td>0.333334</td>\n",
       "    </tr>\n",
       "    <tr>\n",
       "      <th>...</th>\n",
       "      <td>...</td>\n",
       "      <td>...</td>\n",
       "      <td>...</td>\n",
       "      <td>...</td>\n",
       "      <td>...</td>\n",
       "      <td>...</td>\n",
       "      <td>...</td>\n",
       "      <td>...</td>\n",
       "    </tr>\n",
       "    <tr>\n",
       "      <th>235</th>\n",
       "      <td>0.138205</td>\n",
       "      <td>0.079154</td>\n",
       "      <td>0.079363</td>\n",
       "      <td>0.076222</td>\n",
       "      <td>0.143649</td>\n",
       "      <td>0.135064</td>\n",
       "      <td>1175</td>\n",
       "      <td>19.583371</td>\n",
       "    </tr>\n",
       "    <tr>\n",
       "      <th>236</th>\n",
       "      <td>0.137996</td>\n",
       "      <td>0.079363</td>\n",
       "      <td>0.081248</td>\n",
       "      <td>0.074128</td>\n",
       "      <td>0.142393</td>\n",
       "      <td>0.136530</td>\n",
       "      <td>1180</td>\n",
       "      <td>19.666705</td>\n",
       "    </tr>\n",
       "    <tr>\n",
       "      <th>237</th>\n",
       "      <td>0.137577</td>\n",
       "      <td>0.079154</td>\n",
       "      <td>0.082295</td>\n",
       "      <td>0.073500</td>\n",
       "      <td>0.140927</td>\n",
       "      <td>0.137786</td>\n",
       "      <td>1185</td>\n",
       "      <td>19.750038</td>\n",
       "    </tr>\n",
       "    <tr>\n",
       "      <th>238</th>\n",
       "      <td>0.137786</td>\n",
       "      <td>0.077688</td>\n",
       "      <td>0.082714</td>\n",
       "      <td>0.073291</td>\n",
       "      <td>0.138624</td>\n",
       "      <td>0.140090</td>\n",
       "      <td>1190</td>\n",
       "      <td>19.833372</td>\n",
       "    </tr>\n",
       "    <tr>\n",
       "      <th>239</th>\n",
       "      <td>0.138205</td>\n",
       "      <td>0.078316</td>\n",
       "      <td>0.081248</td>\n",
       "      <td>0.074756</td>\n",
       "      <td>0.136111</td>\n",
       "      <td>0.142602</td>\n",
       "      <td>1195</td>\n",
       "      <td>19.916705</td>\n",
       "    </tr>\n",
       "  </tbody>\n",
       "</table>\n",
       "<p>240 rows × 8 columns</p>\n",
       "</div>"
      ],
      "text/plain": [
       "            y         x        xb        xg        yb        yg  frame  \\\n",
       "0    0.137158  0.075385  0.068893  0.078735  0.138414  0.139671      0   \n",
       "1    0.137367  0.073919  0.069102  0.078316  0.140299  0.137996      5   \n",
       "2    0.137367  0.074338  0.070778  0.077269  0.142184  0.136320     10   \n",
       "3    0.137996  0.074756  0.072872  0.075594  0.143440  0.135064     15   \n",
       "4    0.137996  0.075594  0.076013  0.072453  0.143440  0.135064     20   \n",
       "..        ...       ...       ...       ...       ...       ...    ...   \n",
       "235  0.138205  0.079154  0.079363  0.076222  0.143649  0.135064   1175   \n",
       "236  0.137996  0.079363  0.081248  0.074128  0.142393  0.136530   1180   \n",
       "237  0.137577  0.079154  0.082295  0.073500  0.140927  0.137786   1185   \n",
       "238  0.137786  0.077688  0.082714  0.073291  0.138624  0.140090   1190   \n",
       "239  0.138205  0.078316  0.081248  0.074756  0.136111  0.142602   1195   \n",
       "\n",
       "             t  \n",
       "0     0.000000  \n",
       "1     0.083333  \n",
       "2     0.166667  \n",
       "3     0.250000  \n",
       "4     0.333334  \n",
       "..         ...  \n",
       "235  19.583371  \n",
       "236  19.666705  \n",
       "237  19.750038  \n",
       "238  19.833372  \n",
       "239  19.916705  \n",
       "\n",
       "[240 rows x 8 columns]"
      ]
     },
<<<<<<< HEAD
     "execution_count": 94,
=======
     "execution_count": 13,
>>>>>>> a552951fbc0730a3e0b6e1f1fa1bab815d87478c
     "metadata": {},
     "output_type": "execute_result"
    }
   ],
   "source": [
    "data"
   ]
  },
  {
   "cell_type": "code",
<<<<<<< HEAD
   "execution_count": 95,
=======
   "execution_count": 14,
>>>>>>> a552951fbc0730a3e0b6e1f1fa1bab815d87478c
   "id": "2871321b",
   "metadata": {},
   "outputs": [
    {
     "data": {
      "text/plain": [
<<<<<<< HEAD
       "<matplotlib.image.AxesImage at 0x209cffc80a0>"
      ]
     },
     "execution_count": 95,
=======
       "<matplotlib.image.AxesImage at 0x2895c316250>"
      ]
     },
     "execution_count": 14,
>>>>>>> a552951fbc0730a3e0b6e1f1fa1bab815d87478c
     "metadata": {},
     "output_type": "execute_result"
    },
    {
     "data": {
      "image/png": "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",
      "text/plain": [
       "<Figure size 432x288 with 1 Axes>"
      ]
     },
     "metadata": {
      "needs_background": "light"
     },
     "output_type": "display_data"
    }
   ],
   "source": [
    "fig, ax = plt.subplots()\n",
    "ax.scatter(data['x']*(1/scale), data['y']*(1/scale), s = 5, color = 'black')\n",
    "ax.scatter(data['xb']*(1/scale), data['yb']*(1/scale),s = 0.9, color = 'blue')\n",
    "ax.scatter( data['xg']*(1/scale),data['yg']*(1/scale), s = 0.9, color = 'green')\n",
    "ax.set_xlabel('x(pix)')\n",
    "ax.set_ylabel('y(pix)')\n",
    "ax.set_aspect('equal')\n",
    "ax.set_xlim(0,400)\n",
    "ax.set_ylim(400,700)\n",
    "plt.imshow(frames[0])"
   ]
  },
  {
   "cell_type": "code",
<<<<<<< HEAD
   "execution_count": 96,
=======
   "execution_count": 15,
>>>>>>> a552951fbc0730a3e0b6e1f1fa1bab815d87478c
   "id": "f161da7e",
   "metadata": {},
   "outputs": [
    {
     "data": {
      "text/plain": [
       "Text(0, 0.5, 'y (m)')"
      ]
     },
<<<<<<< HEAD
     "execution_count": 96,
=======
     "execution_count": 15,
>>>>>>> a552951fbc0730a3e0b6e1f1fa1bab815d87478c
     "metadata": {},
     "output_type": "execute_result"
    },
    {
     "data": {
      "image/png": "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",
      "text/plain": [
       "<Figure size 432x288 with 1 Axes>"
      ]
     },
     "metadata": {
      "needs_background": "light"
     },
     "output_type": "display_data"
    }
   ],
   "source": [
    "fig, ax = plt.subplots()\n",
    "ax.scatter(data['xg'], data['yg'], color = 'lawngreen')\n",
    "ax.scatter(data['xb'], data['yb'], color = 'dodgerblue')\n",
    "ax.scatter(data['x'], data['y'], color = 'red')\n",
    "ax.set_aspect('equal', adjustable='box')\n",
    "ax.set_xlabel('x (m)')\n",
    "ax.set_ylabel('y (m)')"
   ]
  },
  {
   "cell_type": "code",
<<<<<<< HEAD
   "execution_count": 97,
=======
   "execution_count": 16,
>>>>>>> a552951fbc0730a3e0b6e1f1fa1bab815d87478c
   "id": "13c67dff",
   "metadata": {},
   "outputs": [
    {
     "data": {
      "text/plain": [
       "[]"
      ]
     },
<<<<<<< HEAD
     "execution_count": 97,
=======
     "execution_count": 16,
>>>>>>> a552951fbc0730a3e0b6e1f1fa1bab815d87478c
     "metadata": {},
     "output_type": "execute_result"
    },
    {
     "data": {
      "image/png": "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",
      "text/plain": [
       "<Figure size 432x288 with 1 Axes>"
      ]
     },
     "metadata": {
      "needs_background": "light"
     },
     "output_type": "display_data"
    }
   ],
   "source": [
    "plt.plot(data['t'],data['yg'], color = 'lawngreen')\n",
    "plt.plot(data['t'],data['yb'], color = 'dodgerblue')\n",
    "plt.plot(data['t'],data['y'], color = 'red')\n",
    "plt.xlabel('t')\n",
    "plt.ylabel('y (m)')\n",
    "plt.plot()"
   ]
  },
  {
   "cell_type": "code",
<<<<<<< HEAD
   "execution_count": 98,
=======
   "execution_count": 17,
>>>>>>> a552951fbc0730a3e0b6e1f1fa1bab815d87478c
   "id": "99adf716",
   "metadata": {},
   "outputs": [
    {
     "data": {
      "text/plain": [
       "[]"
      ]
     },
<<<<<<< HEAD
     "execution_count": 98,
=======
     "execution_count": 17,
>>>>>>> a552951fbc0730a3e0b6e1f1fa1bab815d87478c
     "metadata": {},
     "output_type": "execute_result"
    },
    {
     "data": {
      "image/png": "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",
      "text/plain": [
       "<Figure size 432x288 with 1 Axes>"
      ]
     },
     "metadata": {
      "needs_background": "light"
     },
     "output_type": "display_data"
    }
   ],
   "source": [
    "plt.plot(data['t'],data['xg'], color = 'lawngreen')\n",
    "plt.plot(data['t'],data['xb'], color = 'dodgerblue')\n",
    "plt.plot(data['t'],data['x'], color = 'red')\n",
    "plt.xlabel('t')\n",
    "plt.ylabel('x (m)')\n",
    "plt.plot()"
   ]
  },
  {
   "cell_type": "code",
   "execution_count": null,
   "id": "344e8390",
   "metadata": {},
   "outputs": [],
   "source": []
  },
  {
   "cell_type": "code",
   "execution_count": null,
   "id": "744aedfd",
   "metadata": {},
   "outputs": [],
   "source": []
  },
  {
   "cell_type": "code",
<<<<<<< HEAD
   "execution_count": 99,
=======
   "execution_count": 18,
>>>>>>> a552951fbc0730a3e0b6e1f1fa1bab815d87478c
   "id": "2bc5d6c1",
   "metadata": {},
   "outputs": [
    {
     "data": {
      "text/plain": [
       "Text(0, 0.5, 'y (m)')"
      ]
     },
<<<<<<< HEAD
     "execution_count": 99,
=======
     "execution_count": 18,
>>>>>>> a552951fbc0730a3e0b6e1f1fa1bab815d87478c
     "metadata": {},
     "output_type": "execute_result"
    },
    {
     "data": {
      "image/png": "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",
      "text/plain": [
       "<Figure size 432x288 with 1 Axes>"
      ]
     },
     "metadata": {
      "needs_background": "light"
     },
     "output_type": "display_data"
    }
   ],
   "source": [
    "plt.scatter(data['t'], data['y'])\n",
    "plt.xlabel('t')\n",
    "plt.ylabel(\"y (m)\")"
   ]
  },
  {
   "cell_type": "markdown",
   "id": "c7d18f5e",
   "metadata": {},
   "source": []
  },
  {
   "cell_type": "code",
<<<<<<< HEAD
   "execution_count": 100,
=======
   "execution_count": 19,
>>>>>>> a552951fbc0730a3e0b6e1f1fa1bab815d87478c
   "id": "f80845ee",
   "metadata": {},
   "outputs": [
    {
     "data": {
      "text/html": [
       "<div>\n",
       "<style scoped>\n",
       "    .dataframe tbody tr th:only-of-type {\n",
       "        vertical-align: middle;\n",
       "    }\n",
       "\n",
       "    .dataframe tbody tr th {\n",
       "        vertical-align: top;\n",
       "    }\n",
       "\n",
       "    .dataframe thead th {\n",
       "        text-align: right;\n",
       "    }\n",
       "</style>\n",
       "<table border=\"1\" class=\"dataframe\">\n",
       "  <thead>\n",
       "    <tr style=\"text-align: right;\">\n",
       "      <th></th>\n",
       "      <th>y</th>\n",
       "      <th>x</th>\n",
       "      <th>xb</th>\n",
       "      <th>xg</th>\n",
       "      <th>yb</th>\n",
       "      <th>yg</th>\n",
       "      <th>frame</th>\n",
       "      <th>t</th>\n",
       "      <th>ycenb</th>\n",
       "      <th>xcenb</th>\n",
       "    </tr>\n",
       "  </thead>\n",
       "  <tbody>\n",
       "    <tr>\n",
       "      <th>0</th>\n",
       "      <td>0.137158</td>\n",
       "      <td>0.075385</td>\n",
       "      <td>0.068893</td>\n",
       "      <td>0.078735</td>\n",
       "      <td>0.138414</td>\n",
       "      <td>0.139671</td>\n",
       "      <td>0</td>\n",
       "      <td>0.000000</td>\n",
       "      <td>-0.001256</td>\n",
       "      <td>-0.009842</td>\n",
       "    </tr>\n",
       "    <tr>\n",
       "      <th>1</th>\n",
       "      <td>0.137367</td>\n",
       "      <td>0.073919</td>\n",
       "      <td>0.069102</td>\n",
       "      <td>0.078316</td>\n",
       "      <td>0.140299</td>\n",
       "      <td>0.137996</td>\n",
       "      <td>5</td>\n",
       "      <td>0.083333</td>\n",
       "      <td>0.002303</td>\n",
       "      <td>-0.009214</td>\n",
       "    </tr>\n",
       "    <tr>\n",
       "      <th>2</th>\n",
       "      <td>0.137367</td>\n",
       "      <td>0.074338</td>\n",
       "      <td>0.070778</td>\n",
       "      <td>0.077269</td>\n",
       "      <td>0.142184</td>\n",
       "      <td>0.136320</td>\n",
       "      <td>10</td>\n",
       "      <td>0.166667</td>\n",
       "      <td>0.005863</td>\n",
       "      <td>-0.006491</td>\n",
       "    </tr>\n",
       "    <tr>\n",
       "      <th>3</th>\n",
       "      <td>0.137996</td>\n",
       "      <td>0.074756</td>\n",
       "      <td>0.072872</td>\n",
       "      <td>0.075594</td>\n",
       "      <td>0.143440</td>\n",
       "      <td>0.135064</td>\n",
       "      <td>15</td>\n",
       "      <td>0.250000</td>\n",
       "      <td>0.008376</td>\n",
       "      <td>-0.002722</td>\n",
       "    </tr>\n",
       "    <tr>\n",
       "      <th>4</th>\n",
       "      <td>0.137996</td>\n",
       "      <td>0.075594</td>\n",
       "      <td>0.076013</td>\n",
       "      <td>0.072453</td>\n",
       "      <td>0.143440</td>\n",
       "      <td>0.135064</td>\n",
       "      <td>20</td>\n",
       "      <td>0.333334</td>\n",
       "      <td>0.008376</td>\n",
       "      <td>0.003560</td>\n",
       "    </tr>\n",
       "    <tr>\n",
       "      <th>...</th>\n",
       "      <td>...</td>\n",
       "      <td>...</td>\n",
       "      <td>...</td>\n",
       "      <td>...</td>\n",
       "      <td>...</td>\n",
       "      <td>...</td>\n",
       "      <td>...</td>\n",
       "      <td>...</td>\n",
       "      <td>...</td>\n",
       "      <td>...</td>\n",
       "    </tr>\n",
       "    <tr>\n",
       "      <th>235</th>\n",
       "      <td>0.138205</td>\n",
       "      <td>0.079154</td>\n",
       "      <td>0.079363</td>\n",
       "      <td>0.076222</td>\n",
       "      <td>0.143649</td>\n",
       "      <td>0.135064</td>\n",
       "      <td>1175</td>\n",
       "      <td>19.583371</td>\n",
       "      <td>0.008585</td>\n",
       "      <td>0.003141</td>\n",
       "    </tr>\n",
       "    <tr>\n",
       "      <th>236</th>\n",
       "      <td>0.137996</td>\n",
       "      <td>0.079363</td>\n",
       "      <td>0.081248</td>\n",
       "      <td>0.074128</td>\n",
       "      <td>0.142393</td>\n",
       "      <td>0.136530</td>\n",
       "      <td>1180</td>\n",
       "      <td>19.666705</td>\n",
       "      <td>0.005863</td>\n",
       "      <td>0.007120</td>\n",
       "    </tr>\n",
       "    <tr>\n",
       "      <th>237</th>\n",
       "      <td>0.137577</td>\n",
       "      <td>0.079154</td>\n",
       "      <td>0.082295</td>\n",
       "      <td>0.073500</td>\n",
       "      <td>0.140927</td>\n",
       "      <td>0.137786</td>\n",
       "      <td>1185</td>\n",
       "      <td>19.750038</td>\n",
       "      <td>0.003141</td>\n",
       "      <td>0.008795</td>\n",
       "    </tr>\n",
       "    <tr>\n",
       "      <th>238</th>\n",
       "      <td>0.137786</td>\n",
       "      <td>0.077688</td>\n",
       "      <td>0.082714</td>\n",
       "      <td>0.073291</td>\n",
       "      <td>0.138624</td>\n",
       "      <td>0.140090</td>\n",
       "      <td>1190</td>\n",
       "      <td>19.833372</td>\n",
       "      <td>-0.001466</td>\n",
       "      <td>0.009423</td>\n",
       "    </tr>\n",
       "    <tr>\n",
       "      <th>239</th>\n",
       "      <td>0.138205</td>\n",
       "      <td>0.078316</td>\n",
       "      <td>0.081248</td>\n",
       "      <td>0.074756</td>\n",
       "      <td>0.136111</td>\n",
       "      <td>0.142602</td>\n",
       "      <td>1195</td>\n",
       "      <td>19.916705</td>\n",
       "      <td>-0.006491</td>\n",
       "      <td>0.006491</td>\n",
       "    </tr>\n",
       "  </tbody>\n",
       "</table>\n",
       "<p>240 rows × 10 columns</p>\n",
       "</div>"
      ],
      "text/plain": [
       "            y         x        xb        xg        yb        yg  frame  \\\n",
       "0    0.137158  0.075385  0.068893  0.078735  0.138414  0.139671      0   \n",
       "1    0.137367  0.073919  0.069102  0.078316  0.140299  0.137996      5   \n",
       "2    0.137367  0.074338  0.070778  0.077269  0.142184  0.136320     10   \n",
       "3    0.137996  0.074756  0.072872  0.075594  0.143440  0.135064     15   \n",
       "4    0.137996  0.075594  0.076013  0.072453  0.143440  0.135064     20   \n",
       "..        ...       ...       ...       ...       ...       ...    ...   \n",
       "235  0.138205  0.079154  0.079363  0.076222  0.143649  0.135064   1175   \n",
       "236  0.137996  0.079363  0.081248  0.074128  0.142393  0.136530   1180   \n",
       "237  0.137577  0.079154  0.082295  0.073500  0.140927  0.137786   1185   \n",
       "238  0.137786  0.077688  0.082714  0.073291  0.138624  0.140090   1190   \n",
       "239  0.138205  0.078316  0.081248  0.074756  0.136111  0.142602   1195   \n",
       "\n",
       "             t     ycenb     xcenb  \n",
       "0     0.000000 -0.001256 -0.009842  \n",
       "1     0.083333  0.002303 -0.009214  \n",
       "2     0.166667  0.005863 -0.006491  \n",
       "3     0.250000  0.008376 -0.002722  \n",
       "4     0.333334  0.008376  0.003560  \n",
       "..         ...       ...       ...  \n",
       "235  19.583371  0.008585  0.003141  \n",
       "236  19.666705  0.005863  0.007120  \n",
       "237  19.750038  0.003141  0.008795  \n",
       "238  19.833372 -0.001466  0.009423  \n",
       "239  19.916705 -0.006491  0.006491  \n",
       "\n",
       "[240 rows x 10 columns]"
      ]
     },
<<<<<<< HEAD
     "execution_count": 100,
=======
     "execution_count": 19,
>>>>>>> a552951fbc0730a3e0b6e1f1fa1bab815d87478c
     "metadata": {},
     "output_type": "execute_result"
    }
   ],
   "source": [
    "# data['xminb'] = data['xb']- data['x']\n",
    "# data['yminb'] = data['yb']- data['y']\n",
    "# data['xming'] = data['xg']- data['x']\n",
    "# data['yming'] = data['yg']- data['y']\n",
    "\n",
    "data['ycenb'] = data['yb'] - data['yg']\n",
    "data['xcenb'] = data['xb'] - data['xg']\n",
    "\n",
    "data"
   ]
  },
  {
   "cell_type": "code",
<<<<<<< HEAD
   "execution_count": 101,
=======
   "execution_count": 20,
>>>>>>> a552951fbc0730a3e0b6e1f1fa1bab815d87478c
   "id": "1359b2c1",
   "metadata": {},
   "outputs": [
    {
     "data": {
      "text/plain": [
       "Text(0, 0.5, 'y (m)')"
      ]
     },
<<<<<<< HEAD
     "execution_count": 101,
=======
     "execution_count": 20,
>>>>>>> a552951fbc0730a3e0b6e1f1fa1bab815d87478c
     "metadata": {},
     "output_type": "execute_result"
    },
    {
     "data": {
      "image/png": "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",
      "text/plain": [
       "<Figure size 432x288 with 1 Axes>"
      ]
     },
     "metadata": {
      "needs_background": "light"
     },
     "output_type": "display_data"
    }
   ],
   "source": [
    "fig, ax = plt.subplots()\n",
    "\n",
    "ax.scatter(data['xcenb'],data['ycenb'])\n",
    "ax.set_aspect('equal')\n",
    "plt.xlabel('x (m)')\n",
    "plt.ylabel('y (m)')\n",
    "# plt.scatter(data['xtest'],data['ytest'])"
   ]
  },
  {
   "cell_type": "code",
<<<<<<< HEAD
   "execution_count": 102,
=======
   "execution_count": 21,
>>>>>>> a552951fbc0730a3e0b6e1f1fa1bab815d87478c
   "id": "e915986d",
   "metadata": {},
   "outputs": [
    {
     "data": {
      "text/html": [
       "<div>\n",
       "<style scoped>\n",
       "    .dataframe tbody tr th:only-of-type {\n",
       "        vertical-align: middle;\n",
       "    }\n",
       "\n",
       "    .dataframe tbody tr th {\n",
       "        vertical-align: top;\n",
       "    }\n",
       "\n",
       "    .dataframe thead th {\n",
       "        text-align: right;\n",
       "    }\n",
       "</style>\n",
       "<table border=\"1\" class=\"dataframe\">\n",
       "  <thead>\n",
       "    <tr style=\"text-align: right;\">\n",
       "      <th></th>\n",
       "      <th>y</th>\n",
       "      <th>x</th>\n",
       "      <th>xb</th>\n",
       "      <th>xg</th>\n",
       "      <th>yb</th>\n",
       "      <th>yg</th>\n",
       "      <th>frame</th>\n",
       "      <th>t</th>\n",
       "      <th>ycenb</th>\n",
       "      <th>xcenb</th>\n",
       "      <th>theta</th>\n",
<<<<<<< HEAD
=======
       "    </tr>\n",
       "  </thead>\n",
       "  <tbody>\n",
       "    <tr>\n",
       "      <th>0</th>\n",
       "      <td>0.248237</td>\n",
       "      <td>0.136436</td>\n",
       "      <td>0.124687</td>\n",
       "      <td>0.142500</td>\n",
       "      <td>0.250511</td>\n",
       "      <td>0.252785</td>\n",
       "      <td>0</td>\n",
       "      <td>0.000000</td>\n",
       "      <td>-0.002274</td>\n",
       "      <td>-0.017812</td>\n",
       "      <td>-172.724995</td>\n",
       "    </tr>\n",
       "    <tr>\n",
       "      <th>1</th>\n",
       "      <td>0.248237</td>\n",
       "      <td>0.136436</td>\n",
       "      <td>0.124687</td>\n",
       "      <td>0.142121</td>\n",
       "      <td>0.251269</td>\n",
       "      <td>0.252027</td>\n",
       "      <td>2</td>\n",
       "      <td>0.033333</td>\n",
       "      <td>-0.000758</td>\n",
       "      <td>-0.017433</td>\n",
       "      <td>-177.510447</td>\n",
       "    </tr>\n",
       "    <tr>\n",
       "      <th>2</th>\n",
       "      <td>0.248237</td>\n",
       "      <td>0.134920</td>\n",
       "      <td>0.124687</td>\n",
       "      <td>0.142121</td>\n",
       "      <td>0.253164</td>\n",
       "      <td>0.250511</td>\n",
       "      <td>4</td>\n",
       "      <td>0.066667</td>\n",
       "      <td>0.002653</td>\n",
       "      <td>-0.017433</td>\n",
       "      <td>171.347458</td>\n",
       "    </tr>\n",
       "    <tr>\n",
       "      <th>3</th>\n",
       "      <td>0.248616</td>\n",
       "      <td>0.134162</td>\n",
       "      <td>0.125445</td>\n",
       "      <td>0.141742</td>\n",
       "      <td>0.254680</td>\n",
       "      <td>0.249374</td>\n",
       "      <td>6</td>\n",
       "      <td>0.100000</td>\n",
       "      <td>0.005306</td>\n",
       "      <td>-0.016297</td>\n",
       "      <td>161.965714</td>\n",
       "    </tr>\n",
       "    <tr>\n",
       "      <th>4</th>\n",
       "      <td>0.248995</td>\n",
       "      <td>0.134162</td>\n",
       "      <td>0.126582</td>\n",
       "      <td>0.140605</td>\n",
       "      <td>0.256575</td>\n",
       "      <td>0.247858</td>\n",
       "      <td>8</td>\n",
       "      <td>0.133334</td>\n",
       "      <td>0.008717</td>\n",
       "      <td>-0.014023</td>\n",
       "      <td>148.134022</td>\n",
       "    </tr>\n",
       "    <tr>\n",
       "      <th>...</th>\n",
       "      <td>...</td>\n",
       "      <td>...</td>\n",
       "      <td>...</td>\n",
       "      <td>...</td>\n",
       "      <td>...</td>\n",
       "      <td>...</td>\n",
       "      <td>...</td>\n",
       "      <td>...</td>\n",
       "      <td>...</td>\n",
       "      <td>...</td>\n",
       "      <td>...</td>\n",
       "    </tr>\n",
       "    <tr>\n",
       "      <th>95</th>\n",
       "      <td>0.247858</td>\n",
       "      <td>0.140226</td>\n",
       "      <td>0.135299</td>\n",
       "      <td>0.141742</td>\n",
       "      <td>0.257333</td>\n",
       "      <td>0.242553</td>\n",
       "      <td>190</td>\n",
       "      <td>3.166673</td>\n",
       "      <td>0.014781</td>\n",
       "      <td>-0.006443</td>\n",
       "      <td>113.552264</td>\n",
       "    </tr>\n",
       "    <tr>\n",
       "      <th>96</th>\n",
       "      <td>0.247858</td>\n",
       "      <td>0.140605</td>\n",
       "      <td>0.137194</td>\n",
       "      <td>0.140226</td>\n",
       "      <td>0.257712</td>\n",
       "      <td>0.242174</td>\n",
       "      <td>192</td>\n",
       "      <td>3.200006</td>\n",
       "      <td>0.015539</td>\n",
       "      <td>-0.003032</td>\n",
       "      <td>101.040940</td>\n",
       "    </tr>\n",
       "    <tr>\n",
       "      <th>97</th>\n",
       "      <td>0.247858</td>\n",
       "      <td>0.140605</td>\n",
       "      <td>0.139089</td>\n",
       "      <td>0.138331</td>\n",
       "      <td>0.257712</td>\n",
       "      <td>0.241795</td>\n",
       "      <td>194</td>\n",
       "      <td>3.233340</td>\n",
       "      <td>0.015918</td>\n",
       "      <td>0.000758</td>\n",
       "      <td>87.273689</td>\n",
       "    </tr>\n",
       "    <tr>\n",
       "      <th>98</th>\n",
       "      <td>0.247858</td>\n",
       "      <td>0.140984</td>\n",
       "      <td>0.139847</td>\n",
       "      <td>0.137573</td>\n",
       "      <td>0.257712</td>\n",
       "      <td>0.241795</td>\n",
       "      <td>196</td>\n",
       "      <td>3.266673</td>\n",
       "      <td>0.015918</td>\n",
       "      <td>0.002274</td>\n",
       "      <td>81.869898</td>\n",
       "    </tr>\n",
       "    <tr>\n",
       "      <th>99</th>\n",
       "      <td>0.247858</td>\n",
       "      <td>0.141363</td>\n",
       "      <td>0.141742</td>\n",
       "      <td>0.135678</td>\n",
       "      <td>0.257333</td>\n",
       "      <td>0.242174</td>\n",
       "      <td>198</td>\n",
       "      <td>3.300006</td>\n",
       "      <td>0.015160</td>\n",
       "      <td>0.006064</td>\n",
       "      <td>68.198591</td>\n",
       "    </tr>\n",
       "  </tbody>\n",
       "</table>\n",
       "<p>100 rows × 11 columns</p>\n",
       "</div>"
      ],
      "text/plain": [
       "           y         x        xb        xg        yb        yg  frame  \\\n",
       "0   0.248237  0.136436  0.124687  0.142500  0.250511  0.252785      0   \n",
       "1   0.248237  0.136436  0.124687  0.142121  0.251269  0.252027      2   \n",
       "2   0.248237  0.134920  0.124687  0.142121  0.253164  0.250511      4   \n",
       "3   0.248616  0.134162  0.125445  0.141742  0.254680  0.249374      6   \n",
       "4   0.248995  0.134162  0.126582  0.140605  0.256575  0.247858      8   \n",
       "..       ...       ...       ...       ...       ...       ...    ...   \n",
       "95  0.247858  0.140226  0.135299  0.141742  0.257333  0.242553    190   \n",
       "96  0.247858  0.140605  0.137194  0.140226  0.257712  0.242174    192   \n",
       "97  0.247858  0.140605  0.139089  0.138331  0.257712  0.241795    194   \n",
       "98  0.247858  0.140984  0.139847  0.137573  0.257712  0.241795    196   \n",
       "99  0.247858  0.141363  0.141742  0.135678  0.257333  0.242174    198   \n",
       "\n",
       "           t     ycenb     xcenb       theta  \n",
       "0   0.000000 -0.002274 -0.017812 -172.724995  \n",
       "1   0.033333 -0.000758 -0.017433 -177.510447  \n",
       "2   0.066667  0.002653 -0.017433  171.347458  \n",
       "3   0.100000  0.005306 -0.016297  161.965714  \n",
       "4   0.133334  0.008717 -0.014023  148.134022  \n",
       "..       ...       ...       ...         ...  \n",
       "95  3.166673  0.014781 -0.006443  113.552264  \n",
       "96  3.200006  0.015539 -0.003032  101.040940  \n",
       "97  3.233340  0.015918  0.000758   87.273689  \n",
       "98  3.266673  0.015918  0.002274   81.869898  \n",
       "99  3.300006  0.015160  0.006064   68.198591  \n",
       "\n",
       "[100 rows x 11 columns]"
      ]
     },
     "execution_count": 21,
     "metadata": {},
     "output_type": "execute_result"
    }
   ],
   "source": [
    "# data['theta'] = np.degrees(np.arccos(data['xcenb']/np.sqrt(data['xcenb']**2 + data['ycenb']**2))) \n",
    "\n",
    "data['theta'] = np.degrees(np.arctan2(data['ycenb'],data['xcenb'])) \n",
    "\n",
    "\n",
    "\n",
    "\n",
    "# # in degree to make more sense if we quickly look at it\n",
    "# data['theta'] = np.degrees(np.arctan(data['ycenb']/data['xcenb']))\n",
    "data"
   ]
  },
  {
   "cell_type": "code",
   "execution_count": 22,
   "id": "21e208b7",
   "metadata": {},
   "outputs": [
    {
     "data": {
      "text/plain": [
       "Text(0, 0.5, 'theta')"
      ]
     },
     "execution_count": 22,
     "metadata": {},
     "output_type": "execute_result"
    },
    {
     "data": {
      "image/png": "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",
      "text/plain": [
       "<Figure size 432x288 with 1 Axes>"
      ]
     },
     "metadata": {
      "needs_background": "light"
     },
     "output_type": "display_data"
    }
   ],
   "source": [
    "plt.scatter(data['t'],data['theta'])\n",
    "plt.xlabel('tijd (s)')\n",
    "plt.ylabel('theta')"
   ]
  },
  {
   "cell_type": "markdown",
   "id": "0810b9d6",
   "metadata": {},
   "source": [
    "Determine velocities"
   ]
  },
  {
   "cell_type": "code",
   "execution_count": 23,
   "id": "45902367",
   "metadata": {},
   "outputs": [
    {
     "data": {
      "text/html": [
       "<div>\n",
       "<style scoped>\n",
       "    .dataframe tbody tr th:only-of-type {\n",
       "        vertical-align: middle;\n",
       "    }\n",
       "\n",
       "    .dataframe tbody tr th {\n",
       "        vertical-align: top;\n",
       "    }\n",
       "\n",
       "    .dataframe thead th {\n",
       "        text-align: right;\n",
       "    }\n",
       "</style>\n",
       "<table border=\"1\" class=\"dataframe\">\n",
       "  <thead>\n",
       "    <tr style=\"text-align: right;\">\n",
       "      <th></th>\n",
       "      <th>y</th>\n",
       "      <th>x</th>\n",
       "      <th>xb</th>\n",
       "      <th>xg</th>\n",
       "      <th>yb</th>\n",
       "      <th>yg</th>\n",
       "      <th>frame</th>\n",
       "      <th>t</th>\n",
       "      <th>ycenb</th>\n",
       "      <th>xcenb</th>\n",
       "      <th>theta</th>\n",
       "      <th>dtheta</th>\n",
       "      <th>dt</th>\n",
       "      <th>w</th>\n",
>>>>>>> a552951fbc0730a3e0b6e1f1fa1bab815d87478c
       "    </tr>\n",
       "  </thead>\n",
       "  <tbody>\n",
       "    <tr>\n",
       "      <th>0</th>\n",
       "      <td>0.137158</td>\n",
       "      <td>0.075385</td>\n",
       "      <td>0.068893</td>\n",
       "      <td>0.078735</td>\n",
       "      <td>0.138414</td>\n",
       "      <td>0.139671</td>\n",
       "      <td>0</td>\n",
       "      <td>0.000000</td>\n",
       "      <td>-0.001256</td>\n",
       "      <td>-0.009842</td>\n",
       "      <td>-172.724995</td>\n",
<<<<<<< HEAD
       "    </tr>\n",
       "    <tr>\n",
       "      <th>1</th>\n",
       "      <td>0.137367</td>\n",
       "      <td>0.073919</td>\n",
       "      <td>0.069102</td>\n",
       "      <td>0.078316</td>\n",
       "      <td>0.140299</td>\n",
       "      <td>0.137996</td>\n",
       "      <td>5</td>\n",
       "      <td>0.083333</td>\n",
       "      <td>0.002303</td>\n",
       "      <td>-0.009214</td>\n",
       "      <td>165.963757</td>\n",
       "    </tr>\n",
       "    <tr>\n",
       "      <th>2</th>\n",
       "      <td>0.137367</td>\n",
       "      <td>0.074338</td>\n",
       "      <td>0.070778</td>\n",
       "      <td>0.077269</td>\n",
       "      <td>0.142184</td>\n",
       "      <td>0.136320</td>\n",
       "      <td>10</td>\n",
       "      <td>0.166667</td>\n",
       "      <td>0.005863</td>\n",
       "      <td>-0.006491</td>\n",
       "      <td>137.910838</td>\n",
       "    </tr>\n",
       "    <tr>\n",
       "      <th>3</th>\n",
       "      <td>0.137996</td>\n",
       "      <td>0.074756</td>\n",
       "      <td>0.072872</td>\n",
       "      <td>0.075594</td>\n",
       "      <td>0.143440</td>\n",
       "      <td>0.135064</td>\n",
       "      <td>15</td>\n",
       "      <td>0.250000</td>\n",
       "      <td>0.008376</td>\n",
       "      <td>-0.002722</td>\n",
       "      <td>108.004162</td>\n",
       "    </tr>\n",
       "    <tr>\n",
       "      <th>4</th>\n",
       "      <td>0.137996</td>\n",
       "      <td>0.075594</td>\n",
       "      <td>0.076013</td>\n",
       "      <td>0.072453</td>\n",
       "      <td>0.143440</td>\n",
       "      <td>0.135064</td>\n",
       "      <td>20</td>\n",
       "      <td>0.333334</td>\n",
       "      <td>0.008376</td>\n",
       "      <td>0.003560</td>\n",
       "      <td>66.974508</td>\n",
=======
       "      <td>NaN</td>\n",
       "      <td>NaN</td>\n",
       "      <td>NaN</td>\n",
       "    </tr>\n",
       "    <tr>\n",
       "      <th>1</th>\n",
       "      <td>0.248237</td>\n",
       "      <td>0.136436</td>\n",
       "      <td>0.124687</td>\n",
       "      <td>0.142121</td>\n",
       "      <td>0.251269</td>\n",
       "      <td>0.252027</td>\n",
       "      <td>2</td>\n",
       "      <td>0.033333</td>\n",
       "      <td>-0.000758</td>\n",
       "      <td>-0.017433</td>\n",
       "      <td>-177.510447</td>\n",
       "      <td>-4.785452</td>\n",
       "      <td>0.033333</td>\n",
       "      <td>-143.563283</td>\n",
       "    </tr>\n",
       "    <tr>\n",
       "      <th>2</th>\n",
       "      <td>0.248237</td>\n",
       "      <td>0.134920</td>\n",
       "      <td>0.124687</td>\n",
       "      <td>0.142121</td>\n",
       "      <td>0.253164</td>\n",
       "      <td>0.250511</td>\n",
       "      <td>4</td>\n",
       "      <td>0.066667</td>\n",
       "      <td>0.002653</td>\n",
       "      <td>-0.017433</td>\n",
       "      <td>171.347458</td>\n",
       "      <td>348.857905</td>\n",
       "      <td>0.033333</td>\n",
       "      <td>10465.716902</td>\n",
       "    </tr>\n",
       "    <tr>\n",
       "      <th>3</th>\n",
       "      <td>0.248616</td>\n",
       "      <td>0.134162</td>\n",
       "      <td>0.125445</td>\n",
       "      <td>0.141742</td>\n",
       "      <td>0.254680</td>\n",
       "      <td>0.249374</td>\n",
       "      <td>6</td>\n",
       "      <td>0.100000</td>\n",
       "      <td>0.005306</td>\n",
       "      <td>-0.016297</td>\n",
       "      <td>161.965714</td>\n",
       "      <td>-9.381744</td>\n",
       "      <td>0.033333</td>\n",
       "      <td>-281.451769</td>\n",
       "    </tr>\n",
       "    <tr>\n",
       "      <th>4</th>\n",
       "      <td>0.248995</td>\n",
       "      <td>0.134162</td>\n",
       "      <td>0.126582</td>\n",
       "      <td>0.140605</td>\n",
       "      <td>0.256575</td>\n",
       "      <td>0.247858</td>\n",
       "      <td>8</td>\n",
       "      <td>0.133334</td>\n",
       "      <td>0.008717</td>\n",
       "      <td>-0.014023</td>\n",
       "      <td>148.134022</td>\n",
       "      <td>-13.831692</td>\n",
       "      <td>0.033333</td>\n",
       "      <td>-414.949961</td>\n",
>>>>>>> a552951fbc0730a3e0b6e1f1fa1bab815d87478c
       "    </tr>\n",
       "    <tr>\n",
       "      <th>...</th>\n",
       "      <td>...</td>\n",
       "      <td>...</td>\n",
       "      <td>...</td>\n",
       "      <td>...</td>\n",
       "      <td>...</td>\n",
       "      <td>...</td>\n",
       "      <td>...</td>\n",
       "      <td>...</td>\n",
       "      <td>...</td>\n",
       "      <td>...</td>\n",
       "      <td>...</td>\n",
<<<<<<< HEAD
       "    </tr>\n",
       "    <tr>\n",
       "      <th>235</th>\n",
       "      <td>0.138205</td>\n",
       "      <td>0.079154</td>\n",
       "      <td>0.079363</td>\n",
       "      <td>0.076222</td>\n",
       "      <td>0.143649</td>\n",
       "      <td>0.135064</td>\n",
       "      <td>1175</td>\n",
       "      <td>19.583371</td>\n",
       "      <td>0.008585</td>\n",
       "      <td>0.003141</td>\n",
       "      <td>69.904769</td>\n",
       "    </tr>\n",
       "    <tr>\n",
       "      <th>236</th>\n",
       "      <td>0.137996</td>\n",
       "      <td>0.079363</td>\n",
       "      <td>0.081248</td>\n",
       "      <td>0.074128</td>\n",
       "      <td>0.142393</td>\n",
       "      <td>0.136530</td>\n",
       "      <td>1180</td>\n",
       "      <td>19.666705</td>\n",
       "      <td>0.005863</td>\n",
       "      <td>0.007120</td>\n",
       "      <td>39.472460</td>\n",
       "    </tr>\n",
       "    <tr>\n",
       "      <th>237</th>\n",
       "      <td>0.137577</td>\n",
       "      <td>0.079154</td>\n",
       "      <td>0.082295</td>\n",
       "      <td>0.073500</td>\n",
       "      <td>0.140927</td>\n",
       "      <td>0.137786</td>\n",
       "      <td>1185</td>\n",
       "      <td>19.750038</td>\n",
       "      <td>0.003141</td>\n",
       "      <td>0.008795</td>\n",
       "      <td>19.653824</td>\n",
       "    </tr>\n",
       "    <tr>\n",
       "      <th>238</th>\n",
       "      <td>0.137786</td>\n",
       "      <td>0.077688</td>\n",
       "      <td>0.082714</td>\n",
       "      <td>0.073291</td>\n",
       "      <td>0.138624</td>\n",
       "      <td>0.140090</td>\n",
       "      <td>1190</td>\n",
       "      <td>19.833372</td>\n",
       "      <td>-0.001466</td>\n",
       "      <td>0.009423</td>\n",
       "      <td>-8.841815</td>\n",
       "    </tr>\n",
       "    <tr>\n",
       "      <th>239</th>\n",
       "      <td>0.138205</td>\n",
       "      <td>0.078316</td>\n",
       "      <td>0.081248</td>\n",
       "      <td>0.074756</td>\n",
       "      <td>0.136111</td>\n",
       "      <td>0.142602</td>\n",
       "      <td>1195</td>\n",
       "      <td>19.916705</td>\n",
       "      <td>-0.006491</td>\n",
       "      <td>0.006491</td>\n",
       "      <td>-45.000000</td>\n",
       "    </tr>\n",
       "  </tbody>\n",
       "</table>\n",
       "<p>240 rows × 11 columns</p>\n",
=======
       "      <td>...</td>\n",
       "      <td>...</td>\n",
       "      <td>...</td>\n",
       "    </tr>\n",
       "    <tr>\n",
       "      <th>95</th>\n",
       "      <td>0.247858</td>\n",
       "      <td>0.140226</td>\n",
       "      <td>0.135299</td>\n",
       "      <td>0.141742</td>\n",
       "      <td>0.257333</td>\n",
       "      <td>0.242553</td>\n",
       "      <td>190</td>\n",
       "      <td>3.166673</td>\n",
       "      <td>0.014781</td>\n",
       "      <td>-0.006443</td>\n",
       "      <td>113.552264</td>\n",
       "      <td>-11.665329</td>\n",
       "      <td>0.033333</td>\n",
       "      <td>-349.959202</td>\n",
       "    </tr>\n",
       "    <tr>\n",
       "      <th>96</th>\n",
       "      <td>0.247858</td>\n",
       "      <td>0.140605</td>\n",
       "      <td>0.137194</td>\n",
       "      <td>0.140226</td>\n",
       "      <td>0.257712</td>\n",
       "      <td>0.242174</td>\n",
       "      <td>192</td>\n",
       "      <td>3.200006</td>\n",
       "      <td>0.015539</td>\n",
       "      <td>-0.003032</td>\n",
       "      <td>101.040940</td>\n",
       "      <td>-12.511323</td>\n",
       "      <td>0.033333</td>\n",
       "      <td>-375.338978</td>\n",
       "    </tr>\n",
       "    <tr>\n",
       "      <th>97</th>\n",
       "      <td>0.247858</td>\n",
       "      <td>0.140605</td>\n",
       "      <td>0.139089</td>\n",
       "      <td>0.138331</td>\n",
       "      <td>0.257712</td>\n",
       "      <td>0.241795</td>\n",
       "      <td>194</td>\n",
       "      <td>3.233340</td>\n",
       "      <td>0.015918</td>\n",
       "      <td>0.000758</td>\n",
       "      <td>87.273689</td>\n",
       "      <td>-13.767251</td>\n",
       "      <td>0.033333</td>\n",
       "      <td>-413.016736</td>\n",
       "    </tr>\n",
       "    <tr>\n",
       "      <th>98</th>\n",
       "      <td>0.247858</td>\n",
       "      <td>0.140984</td>\n",
       "      <td>0.139847</td>\n",
       "      <td>0.137573</td>\n",
       "      <td>0.257712</td>\n",
       "      <td>0.241795</td>\n",
       "      <td>196</td>\n",
       "      <td>3.266673</td>\n",
       "      <td>0.015918</td>\n",
       "      <td>0.002274</td>\n",
       "      <td>81.869898</td>\n",
       "      <td>-5.403791</td>\n",
       "      <td>0.033333</td>\n",
       "      <td>-162.113427</td>\n",
       "    </tr>\n",
       "    <tr>\n",
       "      <th>99</th>\n",
       "      <td>0.247858</td>\n",
       "      <td>0.141363</td>\n",
       "      <td>0.141742</td>\n",
       "      <td>0.135678</td>\n",
       "      <td>0.257333</td>\n",
       "      <td>0.242174</td>\n",
       "      <td>198</td>\n",
       "      <td>3.300006</td>\n",
       "      <td>0.015160</td>\n",
       "      <td>0.006064</td>\n",
       "      <td>68.198591</td>\n",
       "      <td>-13.671307</td>\n",
       "      <td>0.033333</td>\n",
       "      <td>-410.138420</td>\n",
       "    </tr>\n",
       "  </tbody>\n",
       "</table>\n",
       "<p>100 rows × 14 columns</p>\n",
>>>>>>> a552951fbc0730a3e0b6e1f1fa1bab815d87478c
       "</div>"
      ],
      "text/plain": [
       "            y         x        xb        xg        yb        yg  frame  \\\n",
       "0    0.137158  0.075385  0.068893  0.078735  0.138414  0.139671      0   \n",
       "1    0.137367  0.073919  0.069102  0.078316  0.140299  0.137996      5   \n",
       "2    0.137367  0.074338  0.070778  0.077269  0.142184  0.136320     10   \n",
       "3    0.137996  0.074756  0.072872  0.075594  0.143440  0.135064     15   \n",
       "4    0.137996  0.075594  0.076013  0.072453  0.143440  0.135064     20   \n",
       "..        ...       ...       ...       ...       ...       ...    ...   \n",
       "235  0.138205  0.079154  0.079363  0.076222  0.143649  0.135064   1175   \n",
       "236  0.137996  0.079363  0.081248  0.074128  0.142393  0.136530   1180   \n",
       "237  0.137577  0.079154  0.082295  0.073500  0.140927  0.137786   1185   \n",
       "238  0.137786  0.077688  0.082714  0.073291  0.138624  0.140090   1190   \n",
       "239  0.138205  0.078316  0.081248  0.074756  0.136111  0.142602   1195   \n",
       "\n",
<<<<<<< HEAD
       "             t     ycenb     xcenb       theta  \n",
       "0     0.000000 -0.001256 -0.009842 -172.724995  \n",
       "1     0.083333  0.002303 -0.009214  165.963757  \n",
       "2     0.166667  0.005863 -0.006491  137.910838  \n",
       "3     0.250000  0.008376 -0.002722  108.004162  \n",
       "4     0.333334  0.008376  0.003560   66.974508  \n",
       "..         ...       ...       ...         ...  \n",
       "235  19.583371  0.008585  0.003141   69.904769  \n",
       "236  19.666705  0.005863  0.007120   39.472460  \n",
       "237  19.750038  0.003141  0.008795   19.653824  \n",
       "238  19.833372 -0.001466  0.009423   -8.841815  \n",
       "239  19.916705 -0.006491  0.006491  -45.000000  \n",
       "\n",
       "[240 rows x 11 columns]"
      ]
     },
     "execution_count": 102,
=======
       "           t     ycenb     xcenb       theta      dtheta        dt  \\\n",
       "0   0.000000 -0.002274 -0.017812 -172.724995         NaN       NaN   \n",
       "1   0.033333 -0.000758 -0.017433 -177.510447   -4.785452  0.033333   \n",
       "2   0.066667  0.002653 -0.017433  171.347458  348.857905  0.033333   \n",
       "3   0.100000  0.005306 -0.016297  161.965714   -9.381744  0.033333   \n",
       "4   0.133334  0.008717 -0.014023  148.134022  -13.831692  0.033333   \n",
       "..       ...       ...       ...         ...         ...       ...   \n",
       "95  3.166673  0.014781 -0.006443  113.552264  -11.665329  0.033333   \n",
       "96  3.200006  0.015539 -0.003032  101.040940  -12.511323  0.033333   \n",
       "97  3.233340  0.015918  0.000758   87.273689  -13.767251  0.033333   \n",
       "98  3.266673  0.015918  0.002274   81.869898   -5.403791  0.033333   \n",
       "99  3.300006  0.015160  0.006064   68.198591  -13.671307  0.033333   \n",
       "\n",
       "               w  \n",
       "0            NaN  \n",
       "1    -143.563283  \n",
       "2   10465.716902  \n",
       "3    -281.451769  \n",
       "4    -414.949961  \n",
       "..           ...  \n",
       "95   -349.959202  \n",
       "96   -375.338978  \n",
       "97   -413.016736  \n",
       "98   -162.113427  \n",
       "99   -410.138420  \n",
       "\n",
       "[100 rows x 14 columns]"
      ]
     },
     "execution_count": 23,
>>>>>>> a552951fbc0730a3e0b6e1f1fa1bab815d87478c
     "metadata": {},
     "output_type": "execute_result"
    }
   ],
   "source": [
    "data['dtheta'] = data['theta'].diff(periods = 1)\n",
    "data['dt'] = data['t'].diff(periods = 1)\n",
    "\n",
    "# angularvelocity in radians per frame (if time variable get inserted in code we can adjust is to time)\n",
    "data['w'] = (data['dtheta'] / data['dt'])\n",
    "\n",
    "data"
   ]
  },
  {
<<<<<<< HEAD
   "cell_type": "code",
   "execution_count": 103,
   "id": "21e208b7",
   "metadata": {},
   "outputs": [
    {
     "data": {
      "text/plain": [
       "Text(0, 0.5, 'theta')"
      ]
     },
     "execution_count": 103,
     "metadata": {},
     "output_type": "execute_result"
    },
    {
     "data": {
      "image/png": "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",
      "text/plain": [
       "<Figure size 432x288 with 1 Axes>"
      ]
     },
     "metadata": {
      "needs_background": "light"
     },
     "output_type": "display_data"
    }
   ],
=======
   "cell_type": "markdown",
   "id": "cd5ae37b",
   "metadata": {},
>>>>>>> a552951fbc0730a3e0b6e1f1fa1bab815d87478c
   "source": [
    "Radius/diameter compared to centre"
   ]
  },
  {
   "cell_type": "code",
   "execution_count": 24,
   "id": "cf9ca41a",
   "metadata": {},
   "outputs": [],
   "source": [
    "# data['radb'] = np.sqrt((data['xb']-data['x'])**2 + (data['yb']-data['y'])**2)\n",
    "# data['radg'] = np.sqrt((data['xg']-data['x'])**2 + (data['yg']-data['y'])**2)\n",
    "# data['diameter'] = np.sqrt((data['xb']-data['xg'])**2 + (data['yb']-data['yg'])**2)\n",
    "# data"
   ]
  },
  {
   "cell_type": "markdown",
   "id": "53047b67",
   "metadata": {},
   "source": [
    "Diameter "
   ]
  },
  {
   "cell_type": "code",
<<<<<<< HEAD
   "execution_count": 104,
   "id": "45902367",
=======
   "execution_count": 25,
   "id": "04c8541b",
>>>>>>> a552951fbc0730a3e0b6e1f1fa1bab815d87478c
   "metadata": {},
   "outputs": [
    {
     "data": {
      "text/html": [
       "<div>\n",
       "<style scoped>\n",
       "    .dataframe tbody tr th:only-of-type {\n",
       "        vertical-align: middle;\n",
       "    }\n",
       "\n",
       "    .dataframe tbody tr th {\n",
       "        vertical-align: top;\n",
       "    }\n",
       "\n",
       "    .dataframe thead th {\n",
       "        text-align: right;\n",
       "    }\n",
       "</style>\n",
       "<table border=\"1\" class=\"dataframe\">\n",
       "  <thead>\n",
       "    <tr style=\"text-align: right;\">\n",
       "      <th></th>\n",
       "      <th>y</th>\n",
       "      <th>x</th>\n",
       "      <th>xb</th>\n",
       "      <th>xg</th>\n",
       "      <th>yb</th>\n",
       "      <th>yg</th>\n",
       "      <th>frame</th>\n",
       "      <th>t</th>\n",
       "      <th>ycenb</th>\n",
       "      <th>xcenb</th>\n",
       "      <th>theta</th>\n",
       "      <th>dtheta</th>\n",
       "      <th>dt</th>\n",
       "      <th>w</th>\n",
       "    </tr>\n",
       "  </thead>\n",
       "  <tbody>\n",
       "    <tr>\n",
       "      <th>0</th>\n",
       "      <td>0.137158</td>\n",
       "      <td>0.075385</td>\n",
       "      <td>0.068893</td>\n",
       "      <td>0.078735</td>\n",
       "      <td>0.138414</td>\n",
       "      <td>0.139671</td>\n",
       "      <td>0</td>\n",
       "      <td>0.000000</td>\n",
       "      <td>-0.001256</td>\n",
       "      <td>-0.009842</td>\n",
       "      <td>-172.724995</td>\n",
       "      <td>NaN</td>\n",
       "      <td>NaN</td>\n",
       "      <td>NaN</td>\n",
       "    </tr>\n",
       "    <tr>\n",
       "      <th>1</th>\n",
       "      <td>0.137367</td>\n",
       "      <td>0.073919</td>\n",
       "      <td>0.069102</td>\n",
       "      <td>0.078316</td>\n",
       "      <td>0.140299</td>\n",
       "      <td>0.137996</td>\n",
       "      <td>5</td>\n",
       "      <td>0.083333</td>\n",
       "      <td>0.002303</td>\n",
       "      <td>-0.009214</td>\n",
       "      <td>165.963757</td>\n",
       "      <td>338.688752</td>\n",
       "      <td>0.083333</td>\n",
       "      <td>4064.257152</td>\n",
       "    </tr>\n",
       "    <tr>\n",
       "      <th>2</th>\n",
       "      <td>0.137367</td>\n",
       "      <td>0.074338</td>\n",
       "      <td>0.070778</td>\n",
       "      <td>0.077269</td>\n",
       "      <td>0.142184</td>\n",
       "      <td>0.136320</td>\n",
       "      <td>10</td>\n",
       "      <td>0.166667</td>\n",
       "      <td>0.005863</td>\n",
       "      <td>-0.006491</td>\n",
       "      <td>137.910838</td>\n",
       "      <td>-28.052919</td>\n",
       "      <td>0.083333</td>\n",
       "      <td>-336.634373</td>\n",
       "    </tr>\n",
       "    <tr>\n",
       "      <th>3</th>\n",
       "      <td>0.137996</td>\n",
       "      <td>0.074756</td>\n",
       "      <td>0.072872</td>\n",
       "      <td>0.075594</td>\n",
       "      <td>0.143440</td>\n",
       "      <td>0.135064</td>\n",
       "      <td>15</td>\n",
       "      <td>0.250000</td>\n",
       "      <td>0.008376</td>\n",
       "      <td>-0.002722</td>\n",
       "      <td>108.004162</td>\n",
       "      <td>-29.906676</td>\n",
       "      <td>0.083333</td>\n",
       "      <td>-358.879420</td>\n",
       "    </tr>\n",
       "    <tr>\n",
       "      <th>4</th>\n",
       "      <td>0.137996</td>\n",
       "      <td>0.075594</td>\n",
       "      <td>0.076013</td>\n",
       "      <td>0.072453</td>\n",
       "      <td>0.143440</td>\n",
       "      <td>0.135064</td>\n",
       "      <td>20</td>\n",
       "      <td>0.333334</td>\n",
       "      <td>0.008376</td>\n",
       "      <td>0.003560</td>\n",
       "      <td>66.974508</td>\n",
       "      <td>-41.029654</td>\n",
       "      <td>0.083333</td>\n",
       "      <td>-492.354890</td>\n",
       "    </tr>\n",
       "    <tr>\n",
       "      <th>...</th>\n",
       "      <td>...</td>\n",
       "      <td>...</td>\n",
       "      <td>...</td>\n",
       "      <td>...</td>\n",
       "      <td>...</td>\n",
       "      <td>...</td>\n",
       "      <td>...</td>\n",
       "      <td>...</td>\n",
       "      <td>...</td>\n",
       "      <td>...</td>\n",
       "      <td>...</td>\n",
       "      <td>...</td>\n",
       "      <td>...</td>\n",
       "      <td>...</td>\n",
       "    </tr>\n",
       "    <tr>\n",
       "      <th>235</th>\n",
       "      <td>0.138205</td>\n",
       "      <td>0.079154</td>\n",
       "      <td>0.079363</td>\n",
       "      <td>0.076222</td>\n",
       "      <td>0.143649</td>\n",
       "      <td>0.135064</td>\n",
       "      <td>1175</td>\n",
       "      <td>19.583371</td>\n",
       "      <td>0.008585</td>\n",
       "      <td>0.003141</td>\n",
       "      <td>69.904769</td>\n",
       "      <td>-39.385277</td>\n",
       "      <td>0.083333</td>\n",
       "      <td>-472.622414</td>\n",
       "    </tr>\n",
       "    <tr>\n",
       "      <th>236</th>\n",
       "      <td>0.137996</td>\n",
       "      <td>0.079363</td>\n",
       "      <td>0.081248</td>\n",
       "      <td>0.074128</td>\n",
       "      <td>0.142393</td>\n",
       "      <td>0.136530</td>\n",
       "      <td>1180</td>\n",
       "      <td>19.666705</td>\n",
       "      <td>0.005863</td>\n",
       "      <td>0.007120</td>\n",
       "      <td>39.472460</td>\n",
       "      <td>-30.432309</td>\n",
       "      <td>0.083333</td>\n",
       "      <td>-365.187001</td>\n",
       "    </tr>\n",
       "    <tr>\n",
       "      <th>237</th>\n",
       "      <td>0.137577</td>\n",
       "      <td>0.079154</td>\n",
       "      <td>0.082295</td>\n",
       "      <td>0.073500</td>\n",
       "      <td>0.140927</td>\n",
       "      <td>0.137786</td>\n",
       "      <td>1185</td>\n",
       "      <td>19.750038</td>\n",
       "      <td>0.003141</td>\n",
       "      <td>0.008795</td>\n",
       "      <td>19.653824</td>\n",
       "      <td>-19.818636</td>\n",
       "      <td>0.083333</td>\n",
       "      <td>-237.823169</td>\n",
       "    </tr>\n",
       "    <tr>\n",
       "      <th>238</th>\n",
       "      <td>0.137786</td>\n",
       "      <td>0.077688</td>\n",
       "      <td>0.082714</td>\n",
       "      <td>0.073291</td>\n",
       "      <td>0.138624</td>\n",
       "      <td>0.140090</td>\n",
       "      <td>1190</td>\n",
       "      <td>19.833372</td>\n",
       "      <td>-0.001466</td>\n",
       "      <td>0.009423</td>\n",
       "      <td>-8.841815</td>\n",
       "      <td>-28.495639</td>\n",
       "      <td>0.083333</td>\n",
       "      <td>-341.947002</td>\n",
       "    </tr>\n",
       "    <tr>\n",
       "      <th>239</th>\n",
       "      <td>0.138205</td>\n",
       "      <td>0.078316</td>\n",
       "      <td>0.081248</td>\n",
       "      <td>0.074756</td>\n",
       "      <td>0.136111</td>\n",
       "      <td>0.142602</td>\n",
       "      <td>1195</td>\n",
       "      <td>19.916705</td>\n",
       "      <td>-0.006491</td>\n",
       "      <td>0.006491</td>\n",
       "      <td>-45.000000</td>\n",
       "      <td>-36.158185</td>\n",
       "      <td>0.083333</td>\n",
       "      <td>-433.897385</td>\n",
       "    </tr>\n",
       "  </tbody>\n",
       "</table>\n",
       "<p>240 rows × 14 columns</p>\n",
       "</div>"
      ],
      "text/plain": [
       "            y         x        xb        xg        yb        yg  frame  \\\n",
       "0    0.137158  0.075385  0.068893  0.078735  0.138414  0.139671      0   \n",
       "1    0.137367  0.073919  0.069102  0.078316  0.140299  0.137996      5   \n",
       "2    0.137367  0.074338  0.070778  0.077269  0.142184  0.136320     10   \n",
       "3    0.137996  0.074756  0.072872  0.075594  0.143440  0.135064     15   \n",
       "4    0.137996  0.075594  0.076013  0.072453  0.143440  0.135064     20   \n",
       "..        ...       ...       ...       ...       ...       ...    ...   \n",
       "235  0.138205  0.079154  0.079363  0.076222  0.143649  0.135064   1175   \n",
       "236  0.137996  0.079363  0.081248  0.074128  0.142393  0.136530   1180   \n",
       "237  0.137577  0.079154  0.082295  0.073500  0.140927  0.137786   1185   \n",
       "238  0.137786  0.077688  0.082714  0.073291  0.138624  0.140090   1190   \n",
       "239  0.138205  0.078316  0.081248  0.074756  0.136111  0.142602   1195   \n",
       "\n",
       "             t     ycenb     xcenb       theta      dtheta        dt  \\\n",
       "0     0.000000 -0.001256 -0.009842 -172.724995         NaN       NaN   \n",
       "1     0.083333  0.002303 -0.009214  165.963757  338.688752  0.083333   \n",
       "2     0.166667  0.005863 -0.006491  137.910838  -28.052919  0.083333   \n",
       "3     0.250000  0.008376 -0.002722  108.004162  -29.906676  0.083333   \n",
       "4     0.333334  0.008376  0.003560   66.974508  -41.029654  0.083333   \n",
       "..         ...       ...       ...         ...         ...       ...   \n",
       "235  19.583371  0.008585  0.003141   69.904769  -39.385277  0.083333   \n",
       "236  19.666705  0.005863  0.007120   39.472460  -30.432309  0.083333   \n",
       "237  19.750038  0.003141  0.008795   19.653824  -19.818636  0.083333   \n",
       "238  19.833372 -0.001466  0.009423   -8.841815  -28.495639  0.083333   \n",
       "239  19.916705 -0.006491  0.006491  -45.000000  -36.158185  0.083333   \n",
       "\n",
       "               w  \n",
       "0            NaN  \n",
       "1    4064.257152  \n",
       "2    -336.634373  \n",
       "3    -358.879420  \n",
       "4    -492.354890  \n",
       "..           ...  \n",
       "235  -472.622414  \n",
       "236  -365.187001  \n",
       "237  -237.823169  \n",
       "238  -341.947002  \n",
       "239  -433.897385  \n",
       "\n",
       "[240 rows x 14 columns]"
      ]
     },
<<<<<<< HEAD
     "execution_count": 104,
     "metadata": {},
     "output_type": "execute_result"
    }
   ],
   "source": [
    "data['dtheta'] = data['theta'].diff(periods = 1)\n",
    "data['dt'] = data['t'].diff(periods = 1)\n",
    "\n",
    "# angularvelocity in radians per frame (if time variable get inserted in code we can adjust is to time)\n",
    "data['w'] = (data['dtheta'] / data['dt'])\n",
    "\n",
    "data"
   ]
  },
  {
   "cell_type": "markdown",
   "id": "cd5ae37b",
   "metadata": {},
   "source": [
    "Radius/diameter compared to centre"
   ]
  },
  {
   "cell_type": "code",
   "execution_count": 105,
   "id": "cf9ca41a",
   "metadata": {},
   "outputs": [],
   "source": [
    "# data['radb'] = np.sqrt((data['xb']-data['x'])**2 + (data['yb']-data['y'])**2)\n",
    "# data['radg'] = np.sqrt((data['xg']-data['x'])**2 + (data['yg']-data['y'])**2)\n",
    "# data['diameter'] = np.sqrt((data['xb']-data['xg'])**2 + (data['yb']-data['yg'])**2)\n",
    "# data"
   ]
  },
  {
   "cell_type": "markdown",
   "id": "53047b67",
   "metadata": {},
   "source": [
    "Diameter "
   ]
  },
  {
   "cell_type": "code",
   "execution_count": 106,
   "id": "04c8541b",
   "metadata": {},
   "outputs": [
    {
     "data": {
      "text/html": [
       "<div>\n",
       "<style scoped>\n",
       "    .dataframe tbody tr th:only-of-type {\n",
       "        vertical-align: middle;\n",
       "    }\n",
       "\n",
       "    .dataframe tbody tr th {\n",
       "        vertical-align: top;\n",
       "    }\n",
       "\n",
       "    .dataframe thead th {\n",
       "        text-align: right;\n",
       "    }\n",
       "</style>\n",
       "<table border=\"1\" class=\"dataframe\">\n",
       "  <thead>\n",
       "    <tr style=\"text-align: right;\">\n",
       "      <th></th>\n",
       "      <th>y</th>\n",
       "      <th>x</th>\n",
       "      <th>xb</th>\n",
       "      <th>xg</th>\n",
       "      <th>yb</th>\n",
       "      <th>yg</th>\n",
       "      <th>frame</th>\n",
       "      <th>t</th>\n",
       "      <th>ycenb</th>\n",
       "      <th>xcenb</th>\n",
       "      <th>theta</th>\n",
       "      <th>dtheta</th>\n",
       "      <th>dt</th>\n",
       "      <th>w</th>\n",
       "      <th>diameter</th>\n",
       "      <th>r</th>\n",
       "    </tr>\n",
       "  </thead>\n",
       "  <tbody>\n",
       "    <tr>\n",
       "      <th>0</th>\n",
       "      <td>0.137158</td>\n",
       "      <td>0.075385</td>\n",
       "      <td>0.068893</td>\n",
       "      <td>0.078735</td>\n",
       "      <td>0.138414</td>\n",
       "      <td>0.139671</td>\n",
       "      <td>0</td>\n",
       "      <td>0.000000</td>\n",
       "      <td>-0.001256</td>\n",
       "      <td>-0.009842</td>\n",
       "      <td>-172.724995</td>\n",
       "      <td>NaN</td>\n",
       "      <td>NaN</td>\n",
       "      <td>NaN</td>\n",
       "      <td>0.009922</td>\n",
       "      <td>0.004961</td>\n",
       "    </tr>\n",
       "    <tr>\n",
       "      <th>1</th>\n",
       "      <td>0.137367</td>\n",
       "      <td>0.073919</td>\n",
       "      <td>0.069102</td>\n",
       "      <td>0.078316</td>\n",
       "      <td>0.140299</td>\n",
       "      <td>0.137996</td>\n",
       "      <td>5</td>\n",
       "      <td>0.083333</td>\n",
       "      <td>0.002303</td>\n",
       "      <td>-0.009214</td>\n",
       "      <td>165.963757</td>\n",
       "      <td>338.688752</td>\n",
       "      <td>0.083333</td>\n",
       "      <td>4064.257152</td>\n",
       "      <td>0.009497</td>\n",
       "      <td>0.004749</td>\n",
       "    </tr>\n",
       "    <tr>\n",
       "      <th>2</th>\n",
       "      <td>0.137367</td>\n",
       "      <td>0.074338</td>\n",
       "      <td>0.070778</td>\n",
       "      <td>0.077269</td>\n",
       "      <td>0.142184</td>\n",
       "      <td>0.136320</td>\n",
       "      <td>10</td>\n",
       "      <td>0.166667</td>\n",
       "      <td>0.005863</td>\n",
       "      <td>-0.006491</td>\n",
       "      <td>137.910838</td>\n",
       "      <td>-28.052919</td>\n",
       "      <td>0.083333</td>\n",
       "      <td>-336.634373</td>\n",
       "      <td>0.008747</td>\n",
       "      <td>0.004374</td>\n",
       "    </tr>\n",
       "    <tr>\n",
       "      <th>3</th>\n",
       "      <td>0.137996</td>\n",
       "      <td>0.074756</td>\n",
       "      <td>0.072872</td>\n",
       "      <td>0.075594</td>\n",
       "      <td>0.143440</td>\n",
       "      <td>0.135064</td>\n",
       "      <td>15</td>\n",
       "      <td>0.250000</td>\n",
       "      <td>0.008376</td>\n",
       "      <td>-0.002722</td>\n",
       "      <td>108.004162</td>\n",
       "      <td>-29.906676</td>\n",
       "      <td>0.083333</td>\n",
       "      <td>-358.879420</td>\n",
       "      <td>0.008807</td>\n",
       "      <td>0.004404</td>\n",
       "    </tr>\n",
       "    <tr>\n",
       "      <th>4</th>\n",
       "      <td>0.137996</td>\n",
       "      <td>0.075594</td>\n",
       "      <td>0.076013</td>\n",
       "      <td>0.072453</td>\n",
       "      <td>0.143440</td>\n",
       "      <td>0.135064</td>\n",
       "      <td>20</td>\n",
       "      <td>0.333334</td>\n",
       "      <td>0.008376</td>\n",
       "      <td>0.003560</td>\n",
       "      <td>66.974508</td>\n",
       "      <td>-41.029654</td>\n",
       "      <td>0.083333</td>\n",
       "      <td>-492.354890</td>\n",
       "      <td>0.009101</td>\n",
       "      <td>0.004551</td>\n",
       "    </tr>\n",
       "    <tr>\n",
       "      <th>...</th>\n",
       "      <td>...</td>\n",
       "      <td>...</td>\n",
       "      <td>...</td>\n",
       "      <td>...</td>\n",
       "      <td>...</td>\n",
       "      <td>...</td>\n",
       "      <td>...</td>\n",
       "      <td>...</td>\n",
       "      <td>...</td>\n",
       "      <td>...</td>\n",
       "      <td>...</td>\n",
       "      <td>...</td>\n",
       "      <td>...</td>\n",
       "      <td>...</td>\n",
       "      <td>...</td>\n",
       "      <td>...</td>\n",
       "    </tr>\n",
       "    <tr>\n",
       "      <th>235</th>\n",
       "      <td>0.138205</td>\n",
       "      <td>0.079154</td>\n",
       "      <td>0.079363</td>\n",
       "      <td>0.076222</td>\n",
       "      <td>0.143649</td>\n",
       "      <td>0.135064</td>\n",
       "      <td>1175</td>\n",
       "      <td>19.583371</td>\n",
       "      <td>0.008585</td>\n",
       "      <td>0.003141</td>\n",
       "      <td>69.904769</td>\n",
       "      <td>-39.385277</td>\n",
       "      <td>0.083333</td>\n",
       "      <td>-472.622414</td>\n",
       "      <td>0.009142</td>\n",
       "      <td>0.004571</td>\n",
       "    </tr>\n",
       "    <tr>\n",
       "      <th>236</th>\n",
       "      <td>0.137996</td>\n",
       "      <td>0.079363</td>\n",
       "      <td>0.081248</td>\n",
       "      <td>0.074128</td>\n",
       "      <td>0.142393</td>\n",
       "      <td>0.136530</td>\n",
       "      <td>1180</td>\n",
       "      <td>19.666705</td>\n",
       "      <td>0.005863</td>\n",
       "      <td>0.007120</td>\n",
       "      <td>39.472460</td>\n",
       "      <td>-30.432309</td>\n",
       "      <td>0.083333</td>\n",
       "      <td>-365.187001</td>\n",
       "      <td>0.009223</td>\n",
       "      <td>0.004612</td>\n",
       "    </tr>\n",
       "    <tr>\n",
       "      <th>237</th>\n",
       "      <td>0.137577</td>\n",
       "      <td>0.079154</td>\n",
       "      <td>0.082295</td>\n",
       "      <td>0.073500</td>\n",
       "      <td>0.140927</td>\n",
       "      <td>0.137786</td>\n",
       "      <td>1185</td>\n",
       "      <td>19.750038</td>\n",
       "      <td>0.003141</td>\n",
       "      <td>0.008795</td>\n",
       "      <td>19.653824</td>\n",
       "      <td>-19.818636</td>\n",
       "      <td>0.083333</td>\n",
       "      <td>-237.823169</td>\n",
       "      <td>0.009339</td>\n",
       "      <td>0.004669</td>\n",
       "    </tr>\n",
       "    <tr>\n",
       "      <th>238</th>\n",
       "      <td>0.137786</td>\n",
       "      <td>0.077688</td>\n",
       "      <td>0.082714</td>\n",
       "      <td>0.073291</td>\n",
       "      <td>0.138624</td>\n",
       "      <td>0.140090</td>\n",
       "      <td>1190</td>\n",
       "      <td>19.833372</td>\n",
       "      <td>-0.001466</td>\n",
       "      <td>0.009423</td>\n",
       "      <td>-8.841815</td>\n",
       "      <td>-28.495639</td>\n",
       "      <td>0.083333</td>\n",
       "      <td>-341.947002</td>\n",
       "      <td>0.009536</td>\n",
       "      <td>0.004768</td>\n",
       "    </tr>\n",
       "    <tr>\n",
       "      <th>239</th>\n",
       "      <td>0.138205</td>\n",
       "      <td>0.078316</td>\n",
       "      <td>0.081248</td>\n",
       "      <td>0.074756</td>\n",
       "      <td>0.136111</td>\n",
       "      <td>0.142602</td>\n",
       "      <td>1195</td>\n",
       "      <td>19.916705</td>\n",
       "      <td>-0.006491</td>\n",
       "      <td>0.006491</td>\n",
       "      <td>-45.000000</td>\n",
       "      <td>-36.158185</td>\n",
       "      <td>0.083333</td>\n",
       "      <td>-433.897385</td>\n",
       "      <td>0.009180</td>\n",
       "      <td>0.004590</td>\n",
       "    </tr>\n",
       "  </tbody>\n",
       "</table>\n",
       "<p>240 rows × 16 columns</p>\n",
       "</div>"
      ],
      "text/plain": [
       "            y         x        xb        xg        yb        yg  frame  \\\n",
       "0    0.137158  0.075385  0.068893  0.078735  0.138414  0.139671      0   \n",
       "1    0.137367  0.073919  0.069102  0.078316  0.140299  0.137996      5   \n",
       "2    0.137367  0.074338  0.070778  0.077269  0.142184  0.136320     10   \n",
       "3    0.137996  0.074756  0.072872  0.075594  0.143440  0.135064     15   \n",
       "4    0.137996  0.075594  0.076013  0.072453  0.143440  0.135064     20   \n",
       "..        ...       ...       ...       ...       ...       ...    ...   \n",
       "235  0.138205  0.079154  0.079363  0.076222  0.143649  0.135064   1175   \n",
       "236  0.137996  0.079363  0.081248  0.074128  0.142393  0.136530   1180   \n",
       "237  0.137577  0.079154  0.082295  0.073500  0.140927  0.137786   1185   \n",
       "238  0.137786  0.077688  0.082714  0.073291  0.138624  0.140090   1190   \n",
       "239  0.138205  0.078316  0.081248  0.074756  0.136111  0.142602   1195   \n",
       "\n",
       "             t     ycenb     xcenb       theta      dtheta        dt  \\\n",
       "0     0.000000 -0.001256 -0.009842 -172.724995         NaN       NaN   \n",
       "1     0.083333  0.002303 -0.009214  165.963757  338.688752  0.083333   \n",
       "2     0.166667  0.005863 -0.006491  137.910838  -28.052919  0.083333   \n",
       "3     0.250000  0.008376 -0.002722  108.004162  -29.906676  0.083333   \n",
       "4     0.333334  0.008376  0.003560   66.974508  -41.029654  0.083333   \n",
       "..         ...       ...       ...         ...         ...       ...   \n",
       "235  19.583371  0.008585  0.003141   69.904769  -39.385277  0.083333   \n",
       "236  19.666705  0.005863  0.007120   39.472460  -30.432309  0.083333   \n",
       "237  19.750038  0.003141  0.008795   19.653824  -19.818636  0.083333   \n",
       "238  19.833372 -0.001466  0.009423   -8.841815  -28.495639  0.083333   \n",
       "239  19.916705 -0.006491  0.006491  -45.000000  -36.158185  0.083333   \n",
       "\n",
       "               w  diameter         r  \n",
       "0            NaN  0.009922  0.004961  \n",
       "1    4064.257152  0.009497  0.004749  \n",
       "2    -336.634373  0.008747  0.004374  \n",
       "3    -358.879420  0.008807  0.004404  \n",
       "4    -492.354890  0.009101  0.004551  \n",
       "..           ...       ...       ...  \n",
       "235  -472.622414  0.009142  0.004571  \n",
       "236  -365.187001  0.009223  0.004612  \n",
       "237  -237.823169  0.009339  0.004669  \n",
       "238  -341.947002  0.009536  0.004768  \n",
       "239  -433.897385  0.009180  0.004590  \n",
       "\n",
       "[240 rows x 16 columns]"
      ]
     },
     "execution_count": 106,
=======
     "execution_count": 25,
>>>>>>> a552951fbc0730a3e0b6e1f1fa1bab815d87478c
     "metadata": {},
     "output_type": "execute_result"
    }
   ],
   "source": [
    "## with x and y from blue and green dot\n",
    "# data['diameter'] = np.sqrt((data['xb']-data['xg'])**2 + (data['yb']-data['yg'])**2)\n",
    "\n",
    "# with radius of blue dot centred around green dot \n",
    "\n",
    "data['diameter'] = np.sqrt((data['xcenb']**2 + (data['ycenb'])**2))\n",
    "data['r'] = data['diameter']/2\n",
    "data"
   ]
  },
  {
   "cell_type": "code",
<<<<<<< HEAD
   "execution_count": 107,
=======
   "execution_count": 26,
>>>>>>> a552951fbc0730a3e0b6e1f1fa1bab815d87478c
   "id": "901ca5be",
   "metadata": {},
   "outputs": [
    {
     "data": {
      "text/plain": [
       "(-600.0, 0.0)"
      ]
     },
<<<<<<< HEAD
     "execution_count": 107,
=======
     "execution_count": 26,
>>>>>>> a552951fbc0730a3e0b6e1f1fa1bab815d87478c
     "metadata": {},
     "output_type": "execute_result"
    },
    {
     "data": {
      "image/png": "iVBORw0KGgoAAAANSUhEUgAAAY0AAAEKCAYAAADuEgmxAAAAOXRFWHRTb2Z0d2FyZQBNYXRwbG90bGliIHZlcnNpb24zLjUuMSwgaHR0cHM6Ly9tYXRwbG90bGliLm9yZy/YYfK9AAAACXBIWXMAAAsTAAALEwEAmpwYAAAuIUlEQVR4nO2df7hdVXnnP2/CFS5YCFYUuAFFi/AQEGJuKR2qoxZLapVEqDVOOzBjn6YyWAtPiyWlo7SjA21GmeqMTOnIIFYLVCykBRqL8FTHAfFGfgaJTQU0gUpUgrRc4SZ554+9Tzg52T/W3mf/Ovd8P8+TJ+fuvc/ea6+z1nrX+673fZe5O0IIIUQIC9ougBBCiNFBQkMIIUQwEhpCCCGCkdAQQggRjISGEEKIYCQ0hBBCBDNyQsPMlpvZJjPbbGYXtV0eIYQYJ2yU4jTMbCHwLeAtwBbg68C73f2hVgsmhBBjwqhpGicDm9392+7+PHAtsKLlMgkhxNiwT9sFKMgU8N2+v7cAPzN4kZmtBlYDHHDAAcuOPfbYZkonhBDzhA0bNnzf3Q8ZPD5qQsMSju1lX3P3K4ErAaanp31mZqbucgkhxLzCzB5LOj5q5qktwBF9fy8GHm+pLEIIMXaMmtD4OnC0mR1lZi8CVgHrWi6TEEKMDSNlnnL3HWb2PmA9sBC4yt03tlwsIYQYG0ZKaAC4+y3ALW2XQwghxpFRM08JIYRoEQkNIYQQwUhoCCGECEZCQwghRDASGkIIIYKR0BBCCBGMhIYQQohgJDSEEEIEI6EhhBAiGAkNIYQQwUhoCCGECEZCQwghRDASGkIIIYKR0BBCCBGMhIYQQohgJDSEEEIEI6EhhBAiGAkNIYQQwUhoCCGECEZCQwghRDASGkIIIYKR0BBCCBGMhIYQQohgJDSEEEIEI6EhhBAiGAkNIYQQwUhoCCGECKYVoWFm7zSzjWa2y8ymB86tMbPNZrbJzE7vO77MzB6Iz33czKz5kgshxHjTlqbxIHAm8OX+g2Z2HLAKWAIsBz5pZgvj01cAq4Gj43/LGyutEEIIoCWh4e7fdPdNCadWANe6+3Pu/giwGTjZzA4DDnT3O93dgWuAlc2VWAghBHRvTWMK+G7f31viY1Px58HjQgghGmSfum5sZrcBhyacutjdb0r7WsIxzzie9uzVRKYsjjzyyJySCiGECKU2oeHup5X42hbgiL6/FwOPx8cXJxxPe/aVwJUA09PTqcJFCCFEMbpmnloHrDKzfc3sKKIF77vd/QngGTM7JfaaOhtI01aEEELURFsut+8wsy3AzwI3m9l6AHffCFwPPAT8HXCeu++Mv3Yu8L+JFsf/Cbi18YILIcSYY5Ez0vxlenraZ2Zm2i6GEEKMFGa2wd2nB493zTwlhBCiw0hoCCGECEZCQwghRDASGkIIIYKR0BBCCBGMhIYQQohgJDSEEEIEI6EhhBAiGAkNIYQQwUhoCCGECEZCQwghRDASGkIIIYKR0BBCCBGMhIYQQohgJDSEEEIEI6EhhBAiGAkNIYQQwUhoCCGECEZCQwghRDASGkIIIYKR0BBCCBGMhIYQQohgJDSEEEIEI6EhhBAiGAkNIYQQwUhoCCGECEZCQwghRDASGkIIIYJpRWiY2Voze9jM7jezvzazRX3n1pjZZjPbZGan9x1fZmYPxOc+bmbWRtmFEGKcaUvT+HvgeHd/LfAtYA2AmR0HrAKWAMuBT5rZwvg7VwCrgaPjf8ubLrQQQow7rQgNd/+iu++I/7wLWBx/XgFc6+7PufsjwGbgZDM7DDjQ3e90dweuAVY2XW4hhBh3urCm8R7g1vjzFPDdvnNb4mNT8efB44mY2WozmzGzmW3btlVcXCGEGF/2qevGZnYbcGjCqYvd/ab4mouBHcBne19LuN4zjifi7lcCVwJMT0+nXieEEKIYtQkNdz8t67yZnQO8Dfj52OQEkQZxRN9li4HH4+OLE44LIYRokNqERhZmthz4PeDfuvuzfafWAZ8zs48BhxMteN/t7jvN7BkzOwX4GnA28Immy33jPVtZu34Tj2+f5fBFk1x4+jGsXJpqJRNCiHlHK0ID+B/AvsDfx56zd7n7e919o5ldDzxEZLY6z913xt85F7gamCRaA7l1r7vWyI33bGXNFx5gdi4qztbts6z5wgMAEhxCiLHBXrAMzU+mp6d9ZmZm6PucetntbN0+u9fxqUWTfPWiNw99fyGE6BJmtsHdpwePd8F7aiR4PEFgZB0XQoj5iIRGIIcvmix0XAgh5iMSGoFcePoxTE4s3OPY5MRCLjz9mJZKJIQQzdPWQvjI0VvslveUEGKckdAowMqlUxISQohUxsEtP1homNnBRLETs8Cj7r6rtlIJMc8Zh8Fl3GjbLb+pNpUpNMzsIOA84N3Ai4BtwH7Ay83sLuCT7n5H5aUSe6FBZv7Q9uAy32mrr6xdv2n3b9pjdm4na9dvqv35TbapPE3j80QZZV/v7tv7T5jZMuDfm9mr3P1TlZZK7IEGmeapc+Bpc3CZ77TZV9p0y2+yTWV6T7n7W9z9M4MCIz63wd3Pl8Con6wGIaqnN/Bs3T6L88LAc+M9Wyu5v2J+6qPNvtKmW36TbSrI5dbMTjWzA+LPv2ZmHzOzV1ReGpGIBplmqXvgUcxPfbTZV9p0y2+yTYXGaVwBPGtmJwIfAB4jMluJBtAg0yx1DzyK+amPNvvKyqVTXHrmCUwtmsSIUgxdeuYJjZgcm2xTod5TO9zdzWwF8Kfu/qk4tblogAtPP2YPOy2MxyDT1oLm4YsmE/OMlRl4st6hiXcbNweKtvtKW275TbapUKHxjJmtAX4NeEO8b/dE5aURiYxjYGGbC5pVDTx57zCfPGq6wjj2lR5NCaygLLdmdijw74Cvu/tXzOxI4I3u3nkTVVVZbkWz5GUVrnsGXcX9286M3Pbzq2LctKWukJblNi9OYz3wd8Ct7v6x3nF3/w5a0xA1krWu0MQMuopZW9sODG0/v4rBfhy1pa6TtxB+DvAUcImZfcPMrjCzFWb24gbKJhrkxnu2cuplt3PURTdz6mW3V+ZeWpasBc2i3k1tvVvbDgxtPr8qt2W5m3ePvDiNf3b3q919FTBNpF0sA9ab2W1m9oEmCinqpe64hDJkeYMUmUG3+W5te0m1+fy0wf6SdRsLCfC2tSWxN8G5p+JcU3fG/z5oZi8FTq+rYKI58qJJq7IpF7lP1oLm2vWbgr2b2oy+bntRts3npw3q22fn2D47B4SZmqr0ZBsluryOEyQ0zGw/4NeBJUS5pwBw9/fUVC7RIE2sH5S5T9q6QhHvprZnqk15tKQNMm25gKYN9oPkCfC2XWjboOvrOKHBfZ8BDiXSLP4BWAw8U1ehRLNUuX6QRpW26SJBVG2vKzRBURNcE2s8SaaxNLIEeJsBc23R9XWcUPPUT7n7O81shbt/2sw+B6yvs2CiObJmcxdcd2/id4rO1Kue8YfOoKueqXbRbFDEBNfULDbJNPbs8zt46tm5va7NE+Djto9N29pxHqFCo/dLbzez44F/Bl5ZS4lE41S1fpBFW7bpKu36XTUbFBlkql7jyRKig4P9YP3B/Dc1laHr6zihQuPKeBOmPwDWAS8G/nNtpRKNU8X6QRZN2Kbrtut3NaV5kUGmyllsUSHatmPAqND1dZxQofEld38K+DLwKgAzO6q2UokgmjCVVNXR6x4wmtACumo2KDLIVDmLLSNEx83UVIauC9dQoXED8LqBY58nitkQLdCkqaSqjl7ngNGEFtCU2aDoZKDIIFPlLLarQrQq2ly/6rJwzUsjciyRm+1BZnZm36kD6XO9FcWoojGWHSS7uJBbBU0MYE2Z2MpMBkIHmSwBU7RtNJUNuA26un7VBfI0jWOAtwGLgLf3HX8G+I2ayjSvqaoxlhkk53NHaEILaMJs0ITGlCRgyrSNprIBt0FX16+6QKbQcPebgJvM7Gfd/c6qHmpm/wVYAewCngT+g7s/Hp9bQxRIuBN4v7uvj48vA64GJoFbgN/2kBS9HaOqxpg3SCbN3Jr0nGmaphYPs2b0VdRHWyafYbICtKU110nVDgNpddSlPhRK6JrGD8zsS8DL3f14M3stcIa7f7jkc9e6+38GMLP3Ax8E3mtmxwGriExihwO3mdlr3H0n0e6Bq4G7iITGcuDWks+vjKI/elWNMWuQTJu5DXbMss+G7s0O2148rKo+2nK3HCYrwChkA27L9JZVd0Cn+lAooRHhfw6sIY7XcPf7iQb3Urj7j/r+PADoaQwrgGvd/Tl3fwTYDJxsZocBB7r7nbF2cQ2wsuzzq6JMMryqIpSzImXTZm4LzSp5NnQzanXl0im+etGbeeSyX+KrF7250Y5XVX2kRVI/+/yOWpMstplVuGyfCH1OmX5aVbLHrLrrYh8KIVTT2N/d77Y9B50dwzzYzD4CnA08DbwpPjxFpEn02BIfm4s/Dx5Pu/dqIq2EI488cphiZlJGrc4zoxRN6pd0Lm2GttOdyYmF8pypgarqo/d7XrJu4+7EfgBPPTtX6yy0qqwATa2NFHlOm6a3Mu2i630oVNP4vpm9mlgjMLNfBp7I+kKcOv3BhH8rANz9Ync/Avgs8L7e1xJu5RnHE3H3K9192t2nDznkkPy3K0mZBpGlIVSVxjtthtZ7Vpk8PoOzukX7J+/225Wo1aZJe+8FZoV/v5VLpzhg373nc3XOQrPaZRFNoMzsuUx+qSLPCTG9JfW5KjTXrLob1bxooZrGecCVwLFmthV4hGi/8FTc/bTAe38OuBn4EJEGcUTfucXA4/HxxQnHW6Ws3TNNQ6hqQTBr5lbGBp00q5tYYEwsNOZ2viC7uxS12jRJdQ6RdteUd9ywVJEVoGy5i7bLIs/J6qdZ+35U4ZacV3ddjvxOI0jTcPdvx0LgEOBYd/85d3+07EPN7Oi+P88AHo4/rwNWmdm+ccT50cDd7v4E8IyZnWKRjexs4Kayz6+Kqje5qdLEUWVm0KSONbfLOeBF+4xV9tEsenWetG5URkPo0iy0SHtqqtxFnlNmQ6/ts3N7aR9/cOMDhS0BWXVXtJ92ZXdNC/FaNbN9gbOIkhTu1k7c/Y9KPdTsBqIYkF3AY8B73X1rfO5i4D1Eaybnu/ut8fFpXnC5vRX4rRCX2+npaZ+ZmSlTzCCqdJk79bLbE2dEU4sm+epFbx62qIXpvVvavggGPHLZLzVbqAYp89seddHNiXbTonWVlNxvYoHx4v32Yfuzc511z0xLSlj1hKLoc9J+y7Q+l8RCM3YmDDlN9M+m6rUfM9vg7tODx0PNUzcRLVhvAJ4btjDuflbGuY8AH0k4PgMcP+yzq6bKcP8uJSpLaqSDNDXrbcOXPWShNalcVblqDi7EHjQ5wb/2pRbvqntmFQvIIb930ecUMb2lkSQwoJmF6y7FsoRqGg+6e+cG7BDq1jSqpivBPnkzsLRZTtXlb2OGBenvv9CMj/7KiUCyPfqsZVPcsGFr5RpCGS10FIPK2vi9B+sibd+PKjWNovVflQZbhGE1jf9nZie4+wP5l4ph6EqisqzZ01RKI68j4G+YGdYwA2OW2/KaLzzAfhMLEst1x8PbuPTMEyrXEIqudw0bVNaWUCn6ew+W803HHsIdD28rVO7BPpcmuJImBHWkTalTg62CvISFDxC5tu4D/Ecz+zaRecoAd/fX1l/E+UNXZ3dJpDXSwVlV/zstSJiJzc7t5Heuv48Lrru31DuXdQ4YVoBl7XE9O7czM7q+fxA69bLb94i36H2/6rQxg+S5pObFLbQVqVzk904q51/c9Z3d58uWO8v0Nf2Kl+T24bx+nvfbJNV9VQKrCvI0jbc1UooxoGtpN/IIWV8ZfKc0m2/veJl3LjvDGtYGXMTWnVWuJtLGFLl/SFBZm/bzIr93UjkHKVvuNI0/zxIQ0s+zfpu0uh/UYNucdGa63Lr7Y+7+GPDh3uf+Y80UsR2qdm8btZQBIe6AIZ12kKLvXNatedjBOsuFFmDR5ERQuZpIG1Pk/iFBZW1G+xdJoxJaniYjrEP6eVb9Z9V9m2ly+gld01jS/4eZLWQeb8BUh1ZQRUfMU3uTzkN5T5YkW++pl92++16hroqD9L9z3juV9capwgbce0bSDP+SM5YElatKj7ikWW5a/Q0TVNam/bxIGpXQNtik3T+kn2f9Nmku7l2KEs9b01gD/D4waWa9JIMGPE8UIT4vqUo9z7P3Q3hjCFk8Gzx/4V/dB8buqO1hhF/S/Y3kXC4LzdjlnvvOocK5jHNAVYN1ntAKWWTN+n5Zbrxn614Da1L95dnWk8617fq9cmmUdDNvLSjEhJhU7jrXFkMEbt5vM0zdN7FuGupye6m7r6n0yQ1RxuW2Cve2kDiHIq6EeS6XRYKUyrgIpt1/UHD0v1Oe+2TdwYyhHWiUHBQgv21VUX9t10loHyzqPVW3S28V9y9b91W/WymXWzN7pbs/miYw4pQeU+6+Jen8qFKFep5m7+/Nwos2hjSB0FN7i5i5ypiV0u7vRINU1iw8rQPUbTsP0VBGxUEhRGvtUUX9FdXuqhYyoX2waDnrXuTPa/OhgYtlytKUA0PemsZaM1tAFBG+AdhGtDf4TxGlM/95Xkg0OG+oIn15Wsfd5V4qnUQavU5UZI3B4vtW4fKZN6vN6gDDCucq1nC6EGmb9x69WI+emTFLYEDz9u86BG9dJrK0frl1+yynXnZ7JRpVWpuvsp6S2kxTDgx5272+M95N71eJ8kEdBjwLfJNo97yPuPuPKy1RB8iaLYT+8FUtJmZ5KPV3oqRONrHAmNu19wDj8X2LNNQ6OvEw96xqDWeYOJBhg8pC32PQtp9FG777wwbkVZEmJJRF+08kRntDvVrmjfds5Xeuvy8xjqnMWmnSGJT2blVPInK9p9z9IeDiSp86AqTNFkI7yLADYq+zZM0p+22VaZ3s/AIb6Aw+u7+j1tGJh7lnWubdQfI6ZRnhXmVQWeh7hHDw/hN86O1LatWQhp3hFpltlzXTZJX9X36cvXfc7NxOzr/uXtau31TZOk7vnavKXZU2Bu27z4LKNlnLItTldiwp2kEGrz9r2VTh2WfIAjpEZqGQTlbEhS9kL+iqB6Sy9yzS0dIGr17dJC3mZ3W0KoPKhjEdhK6PVbXeUGaGm5TXqS1z4Nr1m4IFcojgD63XvPZSVBNIazNPz85x+btOqt2BQUIjhaId5KDJib2uv2HD1sKeCyEDUpHZQxGNpwv2/VCKrOEMdsrB37a3NWRvUT+vo1UZVFY23iXUK6YKO3pWivysGe6bjj1kr2enUUcA3uCgXrSe80xsofWa9W5lNIEs7biOid0godu9jh1pA6g7iZHAZun5fIqQ1cCSIoHzItdXLg2PJC5qZsiLmK9z05ikyOHeboL9JHXKpN/WiWbuvVQOWWUNnRkmCavB+gh9j4kFxsH7TxTe8GrYTAT926Gm8fTsXGIbu+PhbcEZA6q2uydt45oc259NWp8oUq9p77bQrJQ7bNWbvxUlSNMws88AXwa+4u4P510/HyiqAl6QsXZQxDxQxEup6uC4tGcfNLnnfuChe03U6cqath6SdCx05heaI6tMUFlSfZx/3b0cvP/EbjPm1u2zLLTIeWHR5ARmDL3h0rAeNSGab9oMN61PDFLHgJc2MRg0RfbS1qctjqcN+EXqNU3bH5z8hY4Rg23/oLitXFDxWkwaoeap/wP8HPAJM3sVcC/wZXf/07oK1jZFVcA09T3JbFV0QGrKnHTh6cdw4V/dt5fd91/jvD/9jTXvuU2YutKEYd79Q0wVWQuiSQIrz3sqbfB96tk5btiwda8spttn55icWMjl7zqpkXiHNPKES9aAn/bsRZMTHLDvPnvU3dr1m0pnQi5S7rS4orTAuKLvllSvIbEbg2PEBdfdy8xjP+TDK09IfH6v7bcRZxQUEQ678039NFF8xnuBWXc/tpZSVUjZTZiSGlGW3Tut0e03sSBxFlN285x+6tiYZekffTG3vCHPHbZsdUYkhzob9KgiYjitPnrUtZVo0XY8SFamgbzvh0Qo1xWhXfWmVWXebdiyGuROGurMqjDUJkxm9iXgAOBO4CvAT7v7k0OVqOP0zw4GPWx6vvR/+Dcb9zAfJKUuzjJbQb6LaxZ1JJbbnqKm98/cQp47TNnqDoIanPnlRVhXoSHlaTdVuWMmvW+vXSa14/7A0SKJD0MGxxCX6ro00jIu70UWkat0Qc/SirLqISRTRB2EmqfuJ8pqezzRXuHbzexOd28u53AL9BpRkjSf2+V77cZ26Zkn7CXds1xeyw6Ow7iL5hEy2Id0yKKdNmQzp6qCoGDPASJE8yjTCfvf6aDJCSYW2u6AvUHSNI2kxfQiZo7+dpnUjmfndnLJuo08t2PXXuaR86+7l6mSruM98gbiuqKY6woOzHpGbxG86DOyJhRZ8VQhmSLqIMh7yt0vcPc3AO8AfkC0xrG9tlJ1jJAGnOY5keXpUMazZdCbpbe4B8W8atII8cwI8cgq4rU16OmSNuveun22kCdWaP32lzWNop1w8J22z86Bw/4Te3e5yYmFvPtnjsit9ySPoDVfeGB3XeS9b1o73j47l7hoDC8ELj77/A4uf9dJle/jkFavVQx6K5fWu/9E3u8RyoWnH5Pq2ZVWD6GZIuog1Dz1PuD1RNrGY8BVRGaqsSDUxzupU2bNePJMV0mkeYVUlRk2dIYWosqHqvshHjo9+jtnf3mTKDKLTVtYhHKdMC3S+2UH7sd/jScMg/Wbt5Vonikn733LxoRA8n4WVVBVepq618CS7p32exSNKF+5dIqZx37IZ+/6TrDVIGuMqCpjbxqh5qlJ4GPABnfPjsOfh4S4WEL6rCBt8Cxj928iKVnVAUJ5HbpM2UPMVWXqN0tohgxMWYFwsPce4oPPHkYI5r1v2gCd5qwxSB2BnoNrhwvN9tCOQp5VpwdR1r2z2m3RMnx45QlB+4/3yHLNr1NgQKDQcPe1tZai4yT5RfdnHYVys6OsWVbaAFXF4neTeyWEdOiyM+C8/FlJaz5GfkbTpMG7TGxKEsOYXcoKhV67TBOIsPfGP2nUscDaK1feJmNZDg11uXdn3Tuv3RYtQ5HJWl1ZgENQGpFABn/QKjb4Ce3E/R1o2MZSxie8KEUXtfM0udBF4t6z01KEpHkOlTWhhcSm9NNEVuB991mw+3xSAsOsgSlN0PbTq/OqJx556zFZAqVO7Tvr3pe/66RcYduboJSppxvv2XN3xv7fs4mF/jQkNEqSJEQGGwdkN/ak+0Dke53WgXrrFmUFVtqayGfv+g7Tr3hJ5ep8iCtp75lpGXl3ugdn78xKEZIkvC5ZtzHonUMGpqxBKiQmIo8809ngAPbjuV2F7t2vMQ1uJQt7asFVm4Oy6jdNoPzO9fcB1biel9HsB01rSfQ0WyhWTzfes3WvQNunnp3jws/ft/v7VZuRQwkO7htVygb3FaHKwD6ob7vZwYG3aLlCKLrtbP9AmhWo1BN4ZQMes/jvAVHXIUFUdW9fO2z5ipI2kKY9azDSe9AdOOv3yyr/49vTtwiYnFi4VzR973jognBWoB4k79k9eO+sIMqkd8r7TfKCKutuT5Ae3NdqwkIz+10zczN7ad+xNWa22cw2mdnpfceXmdkD8bmPx1vNdoK0mVDa4mKe2lyFG2JambKoU51PYtBFMcvdt999sidAktxvs5LDpXHJuo25ZQ1xRW4zkVxavW/dPls6UWSay2qW626S+2mIa2pW3WW1+9m5ndzx8LZg9+4k8kyPIfdOui5N0IX0kaxr6gzcC6E185SZHQG8BfhO37HjgFXAEuBw4DYze4277wSuAFYDdxHtGrgcuLXpcidR9EfMG/yrWOQq07Cq8I1PU+fT1iX6O2eInTbPNJJWd2ctm9pjo6R+ts/O7ZFbK4mQsrVpZ85alK3Sk2jt+k3Bmlz/mkTeelCSs0kvCV9eYGSWR1rWukD/99Pu2ytbqOtsiPYU0s+yfs86A/dCaHNN43LgA0T7j/dYAVzr7s8Bj5jZZuBkM3sUONDd7wQws2uAlXREaGQlZuuPtIWwwb+KwaeoR1JVM+KstBMXXHdv4oDTX868Dpo3K8yqu5vvfyJV+wvxcgkZPNqyM2c5E1ThSVQ0X1ePIjPmXt0NPmv77FymSSRtEA1ZF+h9v+p0PDDc5C8teejEQmtEc82iFfOUmZ0BbHX3+wZOTQHf7ft7S3xsKv48eDzt/qvNbMbMZrZt21ZRqdNJU60vOWNJqmobsg/GMNGsSWVKo983ftg9L7LU+bROaBD83JAF6bS6+9DblxS+76jQq/c0hn2/LM+wqUWTHLz/ROK5wxdNFja3Jj0rbUnfIHUQXbs+eae+uZ2+R1aApL7S75o9jHmvrNls5dIp1r7zRBb1bUtw8P4TrP3lE1uZlPRTm6ZhZrcBhyacuhj4feAXkr6WcMwzjifi7lcCV0K0EJ5b2CHJ0wzK+PxXXaa0pHxG+D4SRZ6d9P1eAsfBUuQlZutnmFnhyqVT/OHfbEzdmnTUWbl0KjPX2TCkCR0DvnrRm3Mj6YvMuIsIOCe9rYZqOYNeUMO4Zg8yjObZltaaR22ahruf5u7HD/4Dvg0cBdwXm50WA98ws0OJNIgj+m6zGHg8Pr444XhnKKIZlMk5NWyZPvorJybOpgYH8GHKEaI9DbM4CMMvNn/o7Uta3fWsDEV2QKxrMT5PW8iaVRedcRcRcGXzhQ2e6/WVpAXsOvrmKNP4moa7PwC8rPd3LDim3f37ZrYO+JyZfYxoIfxo4G5332lmz5jZKcDXgLOBTzRd9qpoIhXIIEnaUJVplUO1p6khNIXeQuzs3M7dC+tF4x/aXKwuQ1GttK73C7HPZ82Mi8yak541scDAKJSFocy6QFbfrCuTQpMZGqqgU8F97r7RzK4HHgJ2AOfFnlMA5wJXE+XBupWOLIKXoa6Ftzyq9O4YJDSVQ9nFwaSgwX533CJ0Ve1PokyKjDrery5hFLLfSX+wbJHn987leU/1k9Y3i+7AGUobO+8Ni4L7WqCu3craLEeRgMQyM6s2A+eaIK1O6tidsSt0pR+ElKlsoG4eXW7XQ+3cJ6olyye9SErlqssxzOyxiPZUZibchkmvKbJmm21ppU1QZ6LBsqT1ibQUN8O2v1Fs1xIaLZHmk960elqVKaPurJvjOng2kc20LZt6VwfMwT5x4z1bU1OCDNv+RrFdt5pGRDTnSVU3w/ikh9Bmio66yRo8667XqnafK0Odu/ZVSVoUfFaMSCij2K6ladRE6Oytq7OtMtS5wDxqXk9FyJtt1lmvbZqI2twToghpfTErRiSUUWzXEho1UMTkNIrqaVuMktdTEdocPNuctIzKgJm1S14WoRPHqtt13eZGCY0aKDJ7G5XZlqiPNgfPqictRQesUZgIlOmjba1VNvFcCY0aKBogdOmZJ3R+ttXPqAUjjQJtDZ5VTlraduqoizJCvS2zXxPPldCogaIBQpeeeULrPtmhdHVgkCArR5VaThddaKuiqFCv2uzXpTVSCY0aSJu9meXvK9AV0hppVQNDlYN8VwXZqFCVlpO1EVTZfbJHlSrNfl1bI5XLbQ2kuUluL7mTX9NkuWFWMZOp2s2zCbflIkkDu0rd75CV+r4Nl96mSKrXKl1pi7TvJlx4JTRqIinr7Sj5pac10jq3oi07yNetklcp5NoSPk3EY6TtSzGfs8am1StQWXxNkfZdd1wPyDzVKKPiKZXVSC9/10m1bUVbdpCvWyWv0iTXlhmtifWGujMpd5Gsei2zeVoSRdt33U4V0jQapIlZQBUz2Sxtoop3qFrjqlslr0rItRn931Q8xqCGnRbLUId23YYW10S9di1qXJpGw9Q5C6hqJpunEQ37DlVrXFV6ACUt0FelybQZSNdWEGlT2nVbWlwT9dq1IEgJjXlEVSaIuhtpHfevQhinDTxnLZvihg1bhx742oz+b8s02tSA15a7b1P12qUgSAmNESVpRlzlTLbuRtqlTtAjbeC54+FtlQRgtrmm1eZstYnfui0trmtaQBNIaIwgaTPiRftPJG4U0zXvrK6Sl2121JPTdVFQV0WbWtx8rtckJDRGkLQZ8b77LGByYmHnvbO6SlP26XEaYJpiVDwT5wPynuowad4gaTPip2fnavfOms90zUtFhNOEZ2IXacNjTJpGRym7BahmsuVp23wkhmPc2n5bHmMSGh2l7S1A26TN5IPjNvCI0aUtjzEJjY6StygL83NGrOSDQoTRlseYhEZHaXML0DaZz+m1haiStjzGtBDeUcZ1UXY+7ZkuRJ20NUZI0+go89kElYX2TBcijLbGCHMfTFw8v5ienvaZmZmh7pG2MKvd4qpncE0DotnTOLhPCtElzGyDu08PHpemkUPawuzMYz/cIx+RFmyrYVw1LCFGhVY0DTO7BPgNYFt86Pfd/Zb43Brg14GdwPvdfX18fBlwNTAJ3AL8tgcUflhN49TLbk80lyw0Y2fC46cWTY7Mft9CCJFGmqbR5kL45e5+UvyvJzCOA1YBS4DlwCfNrLfScwWwGjg6/re8iUKmLcAmCYys64UQYj7QNe+pFcC17v6cuz8CbAZONrPDgAPd/c5Yu7gGWNlEgdIWYBeaFbpeCCHmA20KjfeZ2f1mdpWZHRwfmwK+23fNlvjYVPx58HjtpLm1vftnjhhLl1ghxHhTm9Aws9vM7MGEfyuITE2vBk4CngA+2vtawq0843jas1eb2YyZzWzbti3tsiDSEqF9eOUJY5kgTQgx3rTucmtmrwT+1t2PjxfBcfdL43PrgUuAR4E73P3Y+Pi7gTe6+2/m3b8Kl1shhBg3OrUQHq9R9HgH8GD8eR2wysz2NbOjiBa873b3J4BnzOwUMzPgbOCmRgsthBCitTiNPzGzk4hMTI8Cvwng7hvN7HrgIWAHcJ6796K8zuUFl9tb439CCCEapHXzVN3IPCWEEMXplHlKCCHEaCKhIYQQIhgJDSGEEMFIaAghhAhGQkMIIUQwEhpCCCGCkdAQQggRjISGEEKIYCQ0hBBCBCOhIYQQIhgJDSGEEMFIaAghhAhGQkMIIUQwEhpCCCGCkdAQQggRjISGEEKIYCQ0hBBCBCOhIYQQIhgJDSGEEMFIaAghhAhGQkMIIUQwEhpCCCGCkdAQQggRjISGEEKIYCQ0hBBCBCOhIYQQIhgJDSGEEMFIaAghhAimNaFhZr9lZpvMbKOZ/Unf8TVmtjk+d3rf8WVm9kB87uNmZu2UXAghxpd92niomb0JWAG81t2fM7OXxcePA1YBS4DDgdvM7DXuvhO4AlgN3AXcAiwHbm2j/EIIMa60pWmcC1zm7s8BuPuT8fEVwLXu/py7PwJsBk42s8OAA939Tnd34BpgZQvlFkKIsaYVTQN4DfB6M/sI8GPgd93968AUkSbRY0t8bC7+PHg8ETNbTaSVAPyLmW0qUcaXAt8v8b26UbmK09WyqVzF6WrZulouKF+2VyQdrE1omNltwKEJpy6On3swcArw08D1ZvYqIGmdwjOOJ+LuVwJXFi1zP2Y24+7Tw9yjDlSu4nS1bCpXcbpatq6WC6ovW21Cw91PSztnZucCX4hNTXeb2S4iabgFOKLv0sXA4/HxxQnHhRBCNEhbaxo3Am8GMLPXAC8iUp/WAavMbF8zOwo4Grjb3Z8AnjGzU2KvqbOBm1opuRBCjDFtrWlcBVxlZg8CzwPnxFrHRjO7HngI2AGcF3tOQbR4fjUwSeQ1Vbfn1FDmrRpRuYrT1bKpXMXpatm6Wi6ouGwWjdVCCCFEPooIF0IIEYyEhhBCiGDGWmiY2fI4XclmM7so4bzFKUs2m9n9Zva6hsp1hJndYWbfjNOs/HbCNW80s6fN7N743wcbKtujcTqXe81sJuF8W3V2TF9d3GtmPzKz8weuaaTOzOwqM3syXrPrHXuJmf29mf1j/P/BKd/NbJM1lGutmT0c/1Z/bWaLUr6b+bvXVLZLzGxr3+/11pTvNl1n1/WV6VEzuzflu7XVWdoY0Ug7c/ex/AcsBP4JeBWR99Z9wHED17yVaMHdiGJKvtZQ2Q4DXhd//gngWwlleyPwty3U26PASzPOt1JnCb/tPwOvaKPOgDcArwMe7Dv2J8BF8eeLgD9OKXdmm6yhXL8A7BN//uOkcoX87jWV7RKiwN+837rROhs4/1Hgg03XWdoY0UQ7G2dN42Rgs7t/292fB64lSmPSzwrgGo+4C1hkUUqTWnH3J9z9G/HnZ4BvkhEB3zFaqbMBfh74J3d/rOHnAuDuXwZ+OHB4BfDp+POnSU6DE9ImKy2Xu3/R3XfEf97FnvFQjZFSZyE0Xmc9Yvf/XwH+sqrnhZIxRtTezsZZaEwB3+37Oyk1Scg1tWJmrwSWAl9LOP2zZnafmd1qZksaKpIDXzSzDRalaxmk9TojSnqZ1pHbqDOAl3sUb0T8/8sSrmm77t5Duit73u9eF++LTWdXpZha2qyz1wPfc/d/TDnfSJ0NjBG1t7NxFhohqUkKpS+pGjN7MXADcL67/2jg9DeIzC8nAp8gCphsglPd/XXALwLnmdkbBs63XWcvAs4A/irhdFt1FkprdWdmFxPFRn025ZK8370OrgBeDZwEPEFkChqkzfb2brK1jNrrLGeMSP1awrHgOhtnoZGWsqToNbVgZhNEjeGz7v6FwfPu/iN3/5f48y3AhJm9tO5yufvj8f9PAn9NpOr201qdxfwi8A13/97gibbqLOZ7PTNd/P+TCde0Undmdg7wNuBXPTZ6DxLwu1eOu3/P3Xe6+y7gz1Oe2Vad7QOcCVyXdk3ddZYyRtTezsZZaHwdONrMjopnp6uI0pj0sw44O/YIOgV4uqf61UlsK/0U8E13/1jKNYfG12FmJxP9lj+ouVwHmNlP9D4TLaI+OHBZK3XWR+rsr40662MdcE78+RyS0+CEtMlKMbPlwO8BZ7j7synXhPzudZStfy3sHSnPbLzOYk4DHnb3LUkn666zjDGi/nZWx8r+qPwj8vT5FpEnwcXxsfcC740/G/A/4/MPANMNlevniNTF+4F7439vHSjb+4CNRJ4PdwH/poFyvSp+3n3xsztTZ/Gz9ycSAgf1HWu8zoiE1hO8kNL/14GfBL4E/GP8/0viaw8HbslqkzWXazORfbvXzv7XYLnSfvcGyvaZuA3dTzSoHdaFOouPX91rV33XNlZnGWNE7e1MaUSEEEIEM87mKSGEEAWR0BBCCBGMhIYQQohgJDSEEEIEI6EhhBAiGAkNIUpiZovM7D/1/X24mX0+/jxtZh9P+d6jSUGFcWzL7WZ2YMYzrzWzo6sovxBlkNAQojyLgN1Cw90fd/dfjj/PuPv7C97vrcB9np0O4grgA0ULKkRVSGgIUZ7LgFfH+yWsNbNX9vZdsGjvjr+NP/+kmX3RzO4xsz8jOfcPwK8SR/DGEcU3x8kVHzSzd8XXfAU4LU5jIUTjSGgIUZ6LiFKwn+TuF2Zc9yHg/7r7UqLI5iNTrjsV2BB/Xg487u4nuvvxwN8BeJSHaTNwYhUvIERRJDSEqJ83AH8B4O43A0+lXPcSj/ZGgCh9xmlm9sdm9np3f7rvuieJ0kII0TgSGkI0Q0i+nh1mtgDA3b8FLCMSHpfanlvT7gfMVl9EIfKR0BCiPM8QbbWZx5eJ1isws18EEvdtBjYRJbrDzA4HnnX3vwD+G9GWoz1eQ5QET4jG0WKaECVx9x+Y2Vfjxe9bibL77nFJ/P8fAn9pZt8A/gH4Tsotbybax3wzcAKw1sx2EWVYPRfAzF4OzHqz6eaF2I2y3ApRA2Z2FtEeFefkXvzCdw4j2l/9LRnXXAD8yN0/VUExhSiMzFNCVIyZnQF8BPizIt+LtYc/zwruA7YDny5fOiGGQ5qGEEKIYKRpCCGECEZCQwghRDASGkIIIYKR0BBCCBGMhIYQQohg/j989fneXQixRQAAAABJRU5ErkJggg==",
      "text/plain": [
       "<Figure size 432x288 with 1 Axes>"
      ]
     },
     "metadata": {
      "needs_background": "light"
     },
     "output_type": "display_data"
    }
   ],
   "source": [
    "plt.scatter(data['t'], data['w'])\n",
    "plt.xlabel('tijd (s)')\n",
    "plt.ylabel('w (theta/s)')\n",
    "plt.ylim(-600, 0)"
   ]
  },
  {
   "cell_type": "code",
<<<<<<< HEAD
   "execution_count": 108,
   "id": "fcdae913",
   "metadata": {},
   "outputs": [
    {
     "name": "stdout",
     "output_type": "stream",
     "text": [
      "-357.8587310723425\n"
     ]
    }
   ],
   "source": [
    "w_list = []\n",
    "for item in data['w']:\n",
    "    if item < 0:\n",
    "        w_list.append(item)\n",
    "\n",
    "w_avg = np.mean(w_list)\n",
    "\n",
    "print(w_avg)\n",
    "\n",
    "\n",
    "    "
   ]
  },
  {
   "cell_type": "code",
   "execution_count": 109,
=======
   "execution_count": 33,
>>>>>>> a552951fbc0730a3e0b6e1f1fa1bab815d87478c
   "id": "c0991eac",
   "metadata": {},
   "outputs": [
    {
     "name": "stdout",
     "output_type": "stream",
     "text": [
<<<<<<< HEAD
      "0.004571602181556386\n"
=======
      "-365.58545932350205\n"
>>>>>>> a552951fbc0730a3e0b6e1f1fa1bab815d87478c
     ]
    }
   ],
   "source": [
<<<<<<< HEAD
    "# print(data['w'].mean())\n",
    "# # print(w_avg)\n",
    "\n",
    "print(np.mean(data['r']))"
=======
    "# w_avg = np.mean(data['w'])\n",
    "wnew=[]\n",
    "for item in data['w']:\n",
    "    if item <= 0:\n",
    "        wnew.append(item)\n",
    "w_avg = np.mean(wnew)\n",
    "print(w_avg)\n",
    "\n"
>>>>>>> a552951fbc0730a3e0b6e1f1fa1bab815d87478c
   ]
  }
 ],
 "metadata": {
  "kernelspec": {
   "display_name": "Python 3 (ipykernel)",
   "language": "python",
   "name": "python3"
  },
  "language_info": {
   "codemirror_mode": {
    "name": "ipython",
    "version": 3
   },
   "file_extension": ".py",
   "mimetype": "text/x-python",
   "name": "python",
   "nbconvert_exporter": "python",
   "pygments_lexer": "ipython3",
   "version": "3.9.12"
  }
 },
 "nbformat": 4,
 "nbformat_minor": 5
}
